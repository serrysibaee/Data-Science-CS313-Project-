{
 "cells": [
  {
   "cell_type": "code",
   "execution_count": 1,
   "id": "226a08e9",
   "metadata": {
    "ExecuteTime": {
     "end_time": "2021-12-14T19:25:49.385363Z",
     "start_time": "2021-12-14T19:25:41.952346Z"
    }
   },
   "outputs": [],
   "source": [
    "import numpy as np\n",
    "import pandas as pd\n",
    "import seaborn as sns\n",
    "import math\n",
    "import matplotlib.pyplot as plt\n",
    "import itertools\n",
    "from mlxtend.plotting import plot_decision_regions\n",
    "from sklearn import datasets\n",
    "from sklearn.model_selection import train_test_split\n",
    "from sklearn.model_selection import cross_val_score\n",
    "from sklearn.metrics import mean_squared_error, r2_score, mean_absolute_error \n",
    "from sklearn.neighbors import KNeighborsRegressor\n",
    "from sklearn.neighbors import KNeighborsClassifier\n",
    "from sklearn import preprocessing\n",
    "from sklearn.metrics import explained_variance_score\n",
    "import sklearn\n",
    "from sklearn.linear_model import LinearRegression\n",
    "from sklearn.metrics import classification_report, accuracy_score, plot_confusion_matrix, confusion_matrix"
   ]
  },
  {
   "cell_type": "code",
   "execution_count": 5,
   "id": "779ad092",
   "metadata": {
    "ExecuteTime": {
     "end_time": "2021-12-14T19:32:02.465395Z",
     "start_time": "2021-12-14T19:32:02.320831Z"
    }
   },
   "outputs": [],
   "source": [
    "#Importing our dataset as a dataframe from the Comma-separated values (CSV) file.\n",
    "dataset = pd.read_csv('Coupons_data.csv')"
   ]
  },
  {
   "cell_type": "code",
   "execution_count": 10,
   "id": "15b21bb4",
   "metadata": {
    "ExecuteTime": {
     "end_time": "2021-12-14T19:34:45.529992Z",
     "start_time": "2021-12-14T19:34:45.461663Z"
    }
   },
   "outputs": [
    {
     "data": {
      "text/html": [
       "<div>\n",
       "<style scoped>\n",
       "    .dataframe tbody tr th:only-of-type {\n",
       "        vertical-align: middle;\n",
       "    }\n",
       "\n",
       "    .dataframe tbody tr th {\n",
       "        vertical-align: top;\n",
       "    }\n",
       "\n",
       "    .dataframe thead th {\n",
       "        text-align: right;\n",
       "    }\n",
       "</style>\n",
       "<table border=\"1\" class=\"dataframe\">\n",
       "  <thead>\n",
       "    <tr style=\"text-align: right;\">\n",
       "      <th></th>\n",
       "      <th>destination</th>\n",
       "      <th>passanger</th>\n",
       "      <th>weather</th>\n",
       "      <th>temperature</th>\n",
       "      <th>time</th>\n",
       "      <th>coupon</th>\n",
       "      <th>expiration</th>\n",
       "      <th>gender</th>\n",
       "      <th>age</th>\n",
       "      <th>maritalStatus</th>\n",
       "      <th>...</th>\n",
       "      <th>CoffeeHouse</th>\n",
       "      <th>CarryAway</th>\n",
       "      <th>RestaurantLessThan20</th>\n",
       "      <th>Restaurant20To50</th>\n",
       "      <th>toCoupon_GEQ5min</th>\n",
       "      <th>toCoupon_GEQ15min</th>\n",
       "      <th>toCoupon_GEQ25min</th>\n",
       "      <th>direction_same</th>\n",
       "      <th>direction_opp</th>\n",
       "      <th>Y</th>\n",
       "    </tr>\n",
       "  </thead>\n",
       "  <tbody>\n",
       "    <tr>\n",
       "      <th>0</th>\n",
       "      <td>No Urgent Place</td>\n",
       "      <td>Alone</td>\n",
       "      <td>Sunny</td>\n",
       "      <td>55</td>\n",
       "      <td>2PM</td>\n",
       "      <td>Restaurant(&lt;20)</td>\n",
       "      <td>1d</td>\n",
       "      <td>Female</td>\n",
       "      <td>21</td>\n",
       "      <td>Unmarried partner</td>\n",
       "      <td>...</td>\n",
       "      <td>never</td>\n",
       "      <td>NaN</td>\n",
       "      <td>4~8</td>\n",
       "      <td>1~3</td>\n",
       "      <td>1</td>\n",
       "      <td>0</td>\n",
       "      <td>0</td>\n",
       "      <td>0</td>\n",
       "      <td>1</td>\n",
       "      <td>1</td>\n",
       "    </tr>\n",
       "    <tr>\n",
       "      <th>1</th>\n",
       "      <td>No Urgent Place</td>\n",
       "      <td>Friend(s)</td>\n",
       "      <td>Sunny</td>\n",
       "      <td>80</td>\n",
       "      <td>10AM</td>\n",
       "      <td>Coffee House</td>\n",
       "      <td>2h</td>\n",
       "      <td>Female</td>\n",
       "      <td>21</td>\n",
       "      <td>Unmarried partner</td>\n",
       "      <td>...</td>\n",
       "      <td>never</td>\n",
       "      <td>NaN</td>\n",
       "      <td>4~8</td>\n",
       "      <td>1~3</td>\n",
       "      <td>1</td>\n",
       "      <td>0</td>\n",
       "      <td>0</td>\n",
       "      <td>0</td>\n",
       "      <td>1</td>\n",
       "      <td>0</td>\n",
       "    </tr>\n",
       "    <tr>\n",
       "      <th>2</th>\n",
       "      <td>No Urgent Place</td>\n",
       "      <td>Friend(s)</td>\n",
       "      <td>Sunny</td>\n",
       "      <td>80</td>\n",
       "      <td>10AM</td>\n",
       "      <td>Carry out &amp; Take away</td>\n",
       "      <td>2h</td>\n",
       "      <td>Female</td>\n",
       "      <td>21</td>\n",
       "      <td>Unmarried partner</td>\n",
       "      <td>...</td>\n",
       "      <td>never</td>\n",
       "      <td>NaN</td>\n",
       "      <td>4~8</td>\n",
       "      <td>1~3</td>\n",
       "      <td>1</td>\n",
       "      <td>1</td>\n",
       "      <td>0</td>\n",
       "      <td>0</td>\n",
       "      <td>1</td>\n",
       "      <td>1</td>\n",
       "    </tr>\n",
       "    <tr>\n",
       "      <th>3</th>\n",
       "      <td>No Urgent Place</td>\n",
       "      <td>Friend(s)</td>\n",
       "      <td>Sunny</td>\n",
       "      <td>80</td>\n",
       "      <td>2PM</td>\n",
       "      <td>Coffee House</td>\n",
       "      <td>2h</td>\n",
       "      <td>Female</td>\n",
       "      <td>21</td>\n",
       "      <td>Unmarried partner</td>\n",
       "      <td>...</td>\n",
       "      <td>never</td>\n",
       "      <td>NaN</td>\n",
       "      <td>4~8</td>\n",
       "      <td>1~3</td>\n",
       "      <td>1</td>\n",
       "      <td>1</td>\n",
       "      <td>0</td>\n",
       "      <td>0</td>\n",
       "      <td>1</td>\n",
       "      <td>0</td>\n",
       "    </tr>\n",
       "    <tr>\n",
       "      <th>4</th>\n",
       "      <td>No Urgent Place</td>\n",
       "      <td>Friend(s)</td>\n",
       "      <td>Sunny</td>\n",
       "      <td>80</td>\n",
       "      <td>2PM</td>\n",
       "      <td>Coffee House</td>\n",
       "      <td>1d</td>\n",
       "      <td>Female</td>\n",
       "      <td>21</td>\n",
       "      <td>Unmarried partner</td>\n",
       "      <td>...</td>\n",
       "      <td>never</td>\n",
       "      <td>NaN</td>\n",
       "      <td>4~8</td>\n",
       "      <td>1~3</td>\n",
       "      <td>1</td>\n",
       "      <td>1</td>\n",
       "      <td>0</td>\n",
       "      <td>0</td>\n",
       "      <td>1</td>\n",
       "      <td>0</td>\n",
       "    </tr>\n",
       "  </tbody>\n",
       "</table>\n",
       "<p>5 rows × 26 columns</p>\n",
       "</div>"
      ],
      "text/plain": [
       "       destination  passanger weather  temperature  time  \\\n",
       "0  No Urgent Place      Alone   Sunny           55   2PM   \n",
       "1  No Urgent Place  Friend(s)   Sunny           80  10AM   \n",
       "2  No Urgent Place  Friend(s)   Sunny           80  10AM   \n",
       "3  No Urgent Place  Friend(s)   Sunny           80   2PM   \n",
       "4  No Urgent Place  Friend(s)   Sunny           80   2PM   \n",
       "\n",
       "                  coupon expiration  gender age      maritalStatus  ...  \\\n",
       "0        Restaurant(<20)         1d  Female  21  Unmarried partner  ...   \n",
       "1           Coffee House         2h  Female  21  Unmarried partner  ...   \n",
       "2  Carry out & Take away         2h  Female  21  Unmarried partner  ...   \n",
       "3           Coffee House         2h  Female  21  Unmarried partner  ...   \n",
       "4           Coffee House         1d  Female  21  Unmarried partner  ...   \n",
       "\n",
       "   CoffeeHouse CarryAway RestaurantLessThan20 Restaurant20To50  \\\n",
       "0        never       NaN                  4~8              1~3   \n",
       "1        never       NaN                  4~8              1~3   \n",
       "2        never       NaN                  4~8              1~3   \n",
       "3        never       NaN                  4~8              1~3   \n",
       "4        never       NaN                  4~8              1~3   \n",
       "\n",
       "  toCoupon_GEQ5min toCoupon_GEQ15min toCoupon_GEQ25min direction_same  \\\n",
       "0                1                 0                 0              0   \n",
       "1                1                 0                 0              0   \n",
       "2                1                 1                 0              0   \n",
       "3                1                 1                 0              0   \n",
       "4                1                 1                 0              0   \n",
       "\n",
       "  direction_opp  Y  \n",
       "0             1  1  \n",
       "1             1  0  \n",
       "2             1  1  \n",
       "3             1  0  \n",
       "4             1  0  \n",
       "\n",
       "[5 rows x 26 columns]"
      ]
     },
     "execution_count": 10,
     "metadata": {},
     "output_type": "execute_result"
    }
   ],
   "source": [
    "#Representing the first few values of our dataframe\n",
    "dataset.head()"
   ]
  },
  {
   "cell_type": "code",
   "execution_count": 11,
   "id": "abbc29d0",
   "metadata": {
    "ExecuteTime": {
     "end_time": "2021-12-14T19:34:46.003435Z",
     "start_time": "2021-12-14T19:34:45.991951Z"
    }
   },
   "outputs": [
    {
     "data": {
      "text/plain": [
       "array([1, 0, 1, ..., 0, 0, 0])"
      ]
     },
     "execution_count": 11,
     "metadata": {},
     "output_type": "execute_result"
    }
   ],
   "source": [
    "#Storing our target (Y) in a variable called y_true\n",
    "y_true = dataset['Y'].values\n",
    "y_true"
   ]
  },
  {
   "cell_type": "code",
   "execution_count": 12,
   "id": "2bcf9d7a",
   "metadata": {
    "ExecuteTime": {
     "end_time": "2021-12-14T19:34:46.458069Z",
     "start_time": "2021-12-14T19:34:46.428000Z"
    }
   },
   "outputs": [
    {
     "name": "stdout",
     "output_type": "stream",
     "text": [
      "<class 'pandas.core.frame.DataFrame'>\n",
      "RangeIndex: 12684 entries, 0 to 12683\n",
      "Data columns (total 26 columns):\n",
      " #   Column                Non-Null Count  Dtype \n",
      "---  ------                --------------  ----- \n",
      " 0   destination           12684 non-null  object\n",
      " 1   passanger             12684 non-null  object\n",
      " 2   weather               12684 non-null  object\n",
      " 3   temperature           12684 non-null  int64 \n",
      " 4   time                  12684 non-null  object\n",
      " 5   coupon                12684 non-null  object\n",
      " 6   expiration            12684 non-null  object\n",
      " 7   gender                12684 non-null  object\n",
      " 8   age                   12684 non-null  object\n",
      " 9   maritalStatus         12684 non-null  object\n",
      " 10  has_children          12684 non-null  int64 \n",
      " 11  education             12684 non-null  object\n",
      " 12  occupation            12684 non-null  object\n",
      " 13  income                12684 non-null  object\n",
      " 14  car                   108 non-null    object\n",
      " 15  Bar                   12577 non-null  object\n",
      " 16  CoffeeHouse           12467 non-null  object\n",
      " 17  CarryAway             12533 non-null  object\n",
      " 18  RestaurantLessThan20  12554 non-null  object\n",
      " 19  Restaurant20To50      12495 non-null  object\n",
      " 20  toCoupon_GEQ5min      12684 non-null  int64 \n",
      " 21  toCoupon_GEQ15min     12684 non-null  int64 \n",
      " 22  toCoupon_GEQ25min     12684 non-null  int64 \n",
      " 23  direction_same        12684 non-null  int64 \n",
      " 24  direction_opp         12684 non-null  int64 \n",
      " 25  Y                     12684 non-null  int64 \n",
      "dtypes: int64(8), object(18)\n",
      "memory usage: 2.5+ MB\n"
     ]
    }
   ],
   "source": [
    "#Showcasing the dataset's information.\n",
    "dataset.info()"
   ]
  },
  {
   "cell_type": "code",
   "execution_count": 13,
   "id": "f0478697",
   "metadata": {
    "ExecuteTime": {
     "end_time": "2021-12-14T19:34:46.846135Z",
     "start_time": "2021-12-14T19:34:46.826889Z"
    }
   },
   "outputs": [
    {
     "data": {
      "text/plain": [
       "destination                 0\n",
       "passanger                   0\n",
       "weather                     0\n",
       "temperature                 0\n",
       "time                        0\n",
       "coupon                      0\n",
       "expiration                  0\n",
       "gender                      0\n",
       "age                         0\n",
       "maritalStatus               0\n",
       "has_children                0\n",
       "education                   0\n",
       "occupation                  0\n",
       "income                      0\n",
       "car                     12576\n",
       "Bar                       107\n",
       "CoffeeHouse               217\n",
       "CarryAway                 151\n",
       "RestaurantLessThan20      130\n",
       "Restaurant20To50          189\n",
       "toCoupon_GEQ5min            0\n",
       "toCoupon_GEQ15min           0\n",
       "toCoupon_GEQ25min           0\n",
       "direction_same              0\n",
       "direction_opp               0\n",
       "Y                           0\n",
       "dtype: int64"
      ]
     },
     "execution_count": 13,
     "metadata": {},
     "output_type": "execute_result"
    }
   ],
   "source": [
    "dataset.isnull().sum()\n",
    "#As it is clear, 'car' is mostly empty. As such, we will drop it, so will the surveyes with missing values."
   ]
  },
  {
   "cell_type": "code",
   "execution_count": 14,
   "id": "bb9b6ccd",
   "metadata": {
    "ExecuteTime": {
     "end_time": "2021-12-14T19:34:47.271498Z",
     "start_time": "2021-12-14T19:34:47.245542Z"
    }
   },
   "outputs": [
    {
     "data": {
      "text/plain": [
       "destination               0\n",
       "passanger                 0\n",
       "weather                   0\n",
       "temperature               0\n",
       "time                      0\n",
       "coupon                    0\n",
       "expiration                0\n",
       "gender                    0\n",
       "age                       0\n",
       "maritalStatus             0\n",
       "has_children              0\n",
       "education                 0\n",
       "occupation                0\n",
       "income                    0\n",
       "Bar                     107\n",
       "CoffeeHouse             217\n",
       "CarryAway               151\n",
       "RestaurantLessThan20    130\n",
       "Restaurant20To50        189\n",
       "toCoupon_GEQ5min          0\n",
       "toCoupon_GEQ15min         0\n",
       "toCoupon_GEQ25min         0\n",
       "direction_same            0\n",
       "direction_opp             0\n",
       "Y                         0\n",
       "dtype: int64"
      ]
     },
     "execution_count": 14,
     "metadata": {},
     "output_type": "execute_result"
    }
   ],
   "source": [
    "dataset.drop(['car'], axis=1, inplace=True)\n",
    "dataset.isnull().sum()"
   ]
  },
  {
   "cell_type": "code",
   "execution_count": 15,
   "id": "1999d520",
   "metadata": {
    "ExecuteTime": {
     "end_time": "2021-12-14T19:34:47.985238Z",
     "start_time": "2021-12-14T19:34:47.909961Z"
    }
   },
   "outputs": [
    {
     "data": {
      "text/plain": [
       "destination             0\n",
       "passanger               0\n",
       "weather                 0\n",
       "temperature             0\n",
       "time                    0\n",
       "coupon                  0\n",
       "expiration              0\n",
       "gender                  0\n",
       "age                     0\n",
       "maritalStatus           0\n",
       "has_children            0\n",
       "education               0\n",
       "occupation              0\n",
       "income                  0\n",
       "Bar                     0\n",
       "CoffeeHouse             0\n",
       "CarryAway               0\n",
       "RestaurantLessThan20    0\n",
       "Restaurant20To50        0\n",
       "toCoupon_GEQ5min        0\n",
       "toCoupon_GEQ15min       0\n",
       "toCoupon_GEQ25min       0\n",
       "direction_same          0\n",
       "direction_opp           0\n",
       "Y                       0\n",
       "dtype: int64"
      ]
     },
     "execution_count": 15,
     "metadata": {},
     "output_type": "execute_result"
    }
   ],
   "source": [
    "dataset.dropna(inplace=True)\n",
    "dataset.isnull().sum()"
   ]
  },
  {
   "cell_type": "code",
   "execution_count": 16,
   "id": "1aba7313",
   "metadata": {
    "ExecuteTime": {
     "end_time": "2021-12-14T19:34:48.660398Z",
     "start_time": "2021-12-14T19:34:48.637206Z"
    }
   },
   "outputs": [
    {
     "name": "stdout",
     "output_type": "stream",
     "text": [
      "<class 'pandas.core.frame.DataFrame'>\n",
      "Int64Index: 12079 entries, 22 to 12683\n",
      "Data columns (total 25 columns):\n",
      " #   Column                Non-Null Count  Dtype \n",
      "---  ------                --------------  ----- \n",
      " 0   destination           12079 non-null  object\n",
      " 1   passanger             12079 non-null  object\n",
      " 2   weather               12079 non-null  object\n",
      " 3   temperature           12079 non-null  int64 \n",
      " 4   time                  12079 non-null  object\n",
      " 5   coupon                12079 non-null  object\n",
      " 6   expiration            12079 non-null  object\n",
      " 7   gender                12079 non-null  object\n",
      " 8   age                   12079 non-null  object\n",
      " 9   maritalStatus         12079 non-null  object\n",
      " 10  has_children          12079 non-null  int64 \n",
      " 11  education             12079 non-null  object\n",
      " 12  occupation            12079 non-null  object\n",
      " 13  income                12079 non-null  object\n",
      " 14  Bar                   12079 non-null  object\n",
      " 15  CoffeeHouse           12079 non-null  object\n",
      " 16  CarryAway             12079 non-null  object\n",
      " 17  RestaurantLessThan20  12079 non-null  object\n",
      " 18  Restaurant20To50      12079 non-null  object\n",
      " 19  toCoupon_GEQ5min      12079 non-null  int64 \n",
      " 20  toCoupon_GEQ15min     12079 non-null  int64 \n",
      " 21  toCoupon_GEQ25min     12079 non-null  int64 \n",
      " 22  direction_same        12079 non-null  int64 \n",
      " 23  direction_opp         12079 non-null  int64 \n",
      " 24  Y                     12079 non-null  int64 \n",
      "dtypes: int64(8), object(17)\n",
      "memory usage: 2.4+ MB\n"
     ]
    }
   ],
   "source": [
    "dataset.info()"
   ]
  },
  {
   "cell_type": "code",
   "execution_count": 17,
   "id": "2e37a71b",
   "metadata": {
    "ExecuteTime": {
     "end_time": "2021-12-14T19:34:50.070745Z",
     "start_time": "2021-12-14T19:34:49.673650Z"
    }
   },
   "outputs": [
    {
     "data": {
      "image/png": "[encoded data removed]",
      "text/plain": [
       "<Figure size 432x288 with 1 Axes>"
      ]
     },
     "metadata": {
      "needs_background": "light"
     },
     "output_type": "display_data"
    }
   ],
   "source": [
    "#Plotting our target\n",
    "sns.countplot(x='Y',  hue='Y', data=dataset)\n",
    "plt.show()"
   ]
  },
  {
   "cell_type": "code",
   "execution_count": 12,
   "id": "62b86b20",
   "metadata": {
    "ExecuteTime": {
     "end_time": "2021-12-11T11:59:23.988440Z",
     "start_time": "2021-12-11T11:59:23.980224Z"
    }
   },
   "outputs": [],
   "source": [
    "#sns.pairplot(dataset, hue='Y')\n",
    "#As the pairplot and warnings show, the data cannot be properly visualized because it contains\n",
    "#non-numerical (strings and objects) values."
   ]
  },
  {
   "cell_type": "code",
   "execution_count": 26,
   "id": "0235492f",
   "metadata": {
    "ExecuteTime": {
     "end_time": "2021-12-11T11:59:27.758484Z",
     "start_time": "2021-12-11T11:59:27.652610Z"
    }
   },
   "outputs": [
    {
     "ename": "ValueError",
     "evalue": "could not convert string to float: '1d'",
     "output_type": "error",
     "traceback": [
      "\u001b[1;31m---------------------------------------------------------------------------\u001b[0m",
      "\u001b[1;31mValueError\u001b[0m                                Traceback (most recent call last)",
      "\u001b[1;32m<ipython-input-26-a4f346eafa74>\u001b[0m in \u001b[0;36m<module>\u001b[1;34m\u001b[0m\n\u001b[0;32m      1\u001b[0m \u001b[0mX\u001b[0m \u001b[1;33m=\u001b[0m \u001b[0mdataset\u001b[0m\u001b[1;33m[\u001b[0m\u001b[1;33m[\u001b[0m\u001b[1;34m'expiration'\u001b[0m\u001b[1;33m,\u001b[0m \u001b[1;34m'gender'\u001b[0m\u001b[1;33m]\u001b[0m\u001b[1;33m]\u001b[0m\u001b[1;33m\u001b[0m\u001b[1;33m\u001b[0m\u001b[0m\n\u001b[0;32m      2\u001b[0m \u001b[0mmodel_1\u001b[0m \u001b[1;33m=\u001b[0m \u001b[0mKNeighborsClassifier\u001b[0m\u001b[1;33m(\u001b[0m\u001b[1;33m)\u001b[0m\u001b[1;33m\u001b[0m\u001b[1;33m\u001b[0m\u001b[0m\n\u001b[1;32m----> 3\u001b[1;33m \u001b[0mmodel_1\u001b[0m\u001b[1;33m.\u001b[0m\u001b[0mfit\u001b[0m\u001b[1;33m(\u001b[0m\u001b[0mX\u001b[0m\u001b[1;33m,\u001b[0m \u001b[0my_true\u001b[0m\u001b[1;33m)\u001b[0m\u001b[1;33m\u001b[0m\u001b[1;33m\u001b[0m\u001b[0m\n\u001b[0m\u001b[0;32m      4\u001b[0m \u001b[0mX\u001b[0m\u001b[1;33m.\u001b[0m\u001b[0mvalues\u001b[0m\u001b[1;33m.\u001b[0m\u001b[0mshape\u001b[0m\u001b[1;33m\u001b[0m\u001b[1;33m\u001b[0m\u001b[0m\n\u001b[0;32m      5\u001b[0m \u001b[1;31m#Again, the same problem appears; values must be numbers (integers, floats, etc.)\u001b[0m\u001b[1;33m\u001b[0m\u001b[1;33m\u001b[0m\u001b[1;33m\u001b[0m\u001b[0m\n",
      "\u001b[1;32m~\\anaconda3\\lib\\site-packages\\sklearn\\neighbors\\_classification.py\u001b[0m in \u001b[0;36mfit\u001b[1;34m(self, X, y)\u001b[0m\n\u001b[0;32m    177\u001b[0m             \u001b[0mThe\u001b[0m \u001b[0mfitted\u001b[0m \u001b[0mk\u001b[0m\u001b[1;33m-\u001b[0m\u001b[0mnearest\u001b[0m \u001b[0mneighbors\u001b[0m \u001b[0mclassifier\u001b[0m\u001b[1;33m.\u001b[0m\u001b[1;33m\u001b[0m\u001b[1;33m\u001b[0m\u001b[0m\n\u001b[0;32m    178\u001b[0m         \"\"\"\n\u001b[1;32m--> 179\u001b[1;33m         \u001b[1;32mreturn\u001b[0m \u001b[0mself\u001b[0m\u001b[1;33m.\u001b[0m\u001b[0m_fit\u001b[0m\u001b[1;33m(\u001b[0m\u001b[0mX\u001b[0m\u001b[1;33m,\u001b[0m \u001b[0my\u001b[0m\u001b[1;33m)\u001b[0m\u001b[1;33m\u001b[0m\u001b[1;33m\u001b[0m\u001b[0m\n\u001b[0m\u001b[0;32m    180\u001b[0m \u001b[1;33m\u001b[0m\u001b[0m\n\u001b[0;32m    181\u001b[0m     \u001b[1;32mdef\u001b[0m \u001b[0mpredict\u001b[0m\u001b[1;33m(\u001b[0m\u001b[0mself\u001b[0m\u001b[1;33m,\u001b[0m \u001b[0mX\u001b[0m\u001b[1;33m)\u001b[0m\u001b[1;33m:\u001b[0m\u001b[1;33m\u001b[0m\u001b[1;33m\u001b[0m\u001b[0m\n",
      "\u001b[1;32m~\\anaconda3\\lib\\site-packages\\sklearn\\neighbors\\_base.py\u001b[0m in \u001b[0;36m_fit\u001b[1;34m(self, X, y)\u001b[0m\n\u001b[0;32m    361\u001b[0m         \u001b[1;32mif\u001b[0m \u001b[0mself\u001b[0m\u001b[1;33m.\u001b[0m\u001b[0m_get_tags\u001b[0m\u001b[1;33m(\u001b[0m\u001b[1;33m)\u001b[0m\u001b[1;33m[\u001b[0m\u001b[1;34m\"requires_y\"\u001b[0m\u001b[1;33m]\u001b[0m\u001b[1;33m:\u001b[0m\u001b[1;33m\u001b[0m\u001b[1;33m\u001b[0m\u001b[0m\n\u001b[0;32m    362\u001b[0m             \u001b[1;32mif\u001b[0m \u001b[1;32mnot\u001b[0m \u001b[0misinstance\u001b[0m\u001b[1;33m(\u001b[0m\u001b[0mX\u001b[0m\u001b[1;33m,\u001b[0m \u001b[1;33m(\u001b[0m\u001b[0mKDTree\u001b[0m\u001b[1;33m,\u001b[0m \u001b[0mBallTree\u001b[0m\u001b[1;33m,\u001b[0m \u001b[0mNeighborsBase\u001b[0m\u001b[1;33m)\u001b[0m\u001b[1;33m)\u001b[0m\u001b[1;33m:\u001b[0m\u001b[1;33m\u001b[0m\u001b[1;33m\u001b[0m\u001b[0m\n\u001b[1;32m--> 363\u001b[1;33m                 X, y = self._validate_data(X, y, accept_sparse=\"csr\",\n\u001b[0m\u001b[0;32m    364\u001b[0m                                            multi_output=True)\n\u001b[0;32m    365\u001b[0m \u001b[1;33m\u001b[0m\u001b[0m\n",
      "\u001b[1;32m~\\anaconda3\\lib\\site-packages\\sklearn\\base.py\u001b[0m in \u001b[0;36m_validate_data\u001b[1;34m(self, X, y, reset, validate_separately, **check_params)\u001b[0m\n\u001b[0;32m    431\u001b[0m                 \u001b[0my\u001b[0m \u001b[1;33m=\u001b[0m \u001b[0mcheck_array\u001b[0m\u001b[1;33m(\u001b[0m\u001b[0my\u001b[0m\u001b[1;33m,\u001b[0m \u001b[1;33m**\u001b[0m\u001b[0mcheck_y_params\u001b[0m\u001b[1;33m)\u001b[0m\u001b[1;33m\u001b[0m\u001b[1;33m\u001b[0m\u001b[0m\n\u001b[0;32m    432\u001b[0m             \u001b[1;32melse\u001b[0m\u001b[1;33m:\u001b[0m\u001b[1;33m\u001b[0m\u001b[1;33m\u001b[0m\u001b[0m\n\u001b[1;32m--> 433\u001b[1;33m                 \u001b[0mX\u001b[0m\u001b[1;33m,\u001b[0m \u001b[0my\u001b[0m \u001b[1;33m=\u001b[0m \u001b[0mcheck_X_y\u001b[0m\u001b[1;33m(\u001b[0m\u001b[0mX\u001b[0m\u001b[1;33m,\u001b[0m \u001b[0my\u001b[0m\u001b[1;33m,\u001b[0m \u001b[1;33m**\u001b[0m\u001b[0mcheck_params\u001b[0m\u001b[1;33m)\u001b[0m\u001b[1;33m\u001b[0m\u001b[1;33m\u001b[0m\u001b[0m\n\u001b[0m\u001b[0;32m    434\u001b[0m             \u001b[0mout\u001b[0m \u001b[1;33m=\u001b[0m \u001b[0mX\u001b[0m\u001b[1;33m,\u001b[0m \u001b[0my\u001b[0m\u001b[1;33m\u001b[0m\u001b[1;33m\u001b[0m\u001b[0m\n\u001b[0;32m    435\u001b[0m \u001b[1;33m\u001b[0m\u001b[0m\n",
      "\u001b[1;32m~\\anaconda3\\lib\\site-packages\\sklearn\\utils\\validation.py\u001b[0m in \u001b[0;36minner_f\u001b[1;34m(*args, **kwargs)\u001b[0m\n\u001b[0;32m     61\u001b[0m             \u001b[0mextra_args\u001b[0m \u001b[1;33m=\u001b[0m \u001b[0mlen\u001b[0m\u001b[1;33m(\u001b[0m\u001b[0margs\u001b[0m\u001b[1;33m)\u001b[0m \u001b[1;33m-\u001b[0m \u001b[0mlen\u001b[0m\u001b[1;33m(\u001b[0m\u001b[0mall_args\u001b[0m\u001b[1;33m)\u001b[0m\u001b[1;33m\u001b[0m\u001b[1;33m\u001b[0m\u001b[0m\n\u001b[0;32m     62\u001b[0m             \u001b[1;32mif\u001b[0m \u001b[0mextra_args\u001b[0m \u001b[1;33m<=\u001b[0m \u001b[1;36m0\u001b[0m\u001b[1;33m:\u001b[0m\u001b[1;33m\u001b[0m\u001b[1;33m\u001b[0m\u001b[0m\n\u001b[1;32m---> 63\u001b[1;33m                 \u001b[1;32mreturn\u001b[0m \u001b[0mf\u001b[0m\u001b[1;33m(\u001b[0m\u001b[1;33m*\u001b[0m\u001b[0margs\u001b[0m\u001b[1;33m,\u001b[0m \u001b[1;33m**\u001b[0m\u001b[0mkwargs\u001b[0m\u001b[1;33m)\u001b[0m\u001b[1;33m\u001b[0m\u001b[1;33m\u001b[0m\u001b[0m\n\u001b[0m\u001b[0;32m     64\u001b[0m \u001b[1;33m\u001b[0m\u001b[0m\n\u001b[0;32m     65\u001b[0m             \u001b[1;31m# extra_args > 0\u001b[0m\u001b[1;33m\u001b[0m\u001b[1;33m\u001b[0m\u001b[1;33m\u001b[0m\u001b[0m\n",
      "\u001b[1;32m~\\anaconda3\\lib\\site-packages\\sklearn\\utils\\validation.py\u001b[0m in \u001b[0;36mcheck_X_y\u001b[1;34m(X, y, accept_sparse, accept_large_sparse, dtype, order, copy, force_all_finite, ensure_2d, allow_nd, multi_output, ensure_min_samples, ensure_min_features, y_numeric, estimator)\u001b[0m\n\u001b[0;32m    812\u001b[0m         \u001b[1;32mraise\u001b[0m \u001b[0mValueError\u001b[0m\u001b[1;33m(\u001b[0m\u001b[1;34m\"y cannot be None\"\u001b[0m\u001b[1;33m)\u001b[0m\u001b[1;33m\u001b[0m\u001b[1;33m\u001b[0m\u001b[0m\n\u001b[0;32m    813\u001b[0m \u001b[1;33m\u001b[0m\u001b[0m\n\u001b[1;32m--> 814\u001b[1;33m     X = check_array(X, accept_sparse=accept_sparse,\n\u001b[0m\u001b[0;32m    815\u001b[0m                     \u001b[0maccept_large_sparse\u001b[0m\u001b[1;33m=\u001b[0m\u001b[0maccept_large_sparse\u001b[0m\u001b[1;33m,\u001b[0m\u001b[1;33m\u001b[0m\u001b[1;33m\u001b[0m\u001b[0m\n\u001b[0;32m    816\u001b[0m                     \u001b[0mdtype\u001b[0m\u001b[1;33m=\u001b[0m\u001b[0mdtype\u001b[0m\u001b[1;33m,\u001b[0m \u001b[0morder\u001b[0m\u001b[1;33m=\u001b[0m\u001b[0morder\u001b[0m\u001b[1;33m,\u001b[0m \u001b[0mcopy\u001b[0m\u001b[1;33m=\u001b[0m\u001b[0mcopy\u001b[0m\u001b[1;33m,\u001b[0m\u001b[1;33m\u001b[0m\u001b[1;33m\u001b[0m\u001b[0m\n",
      "\u001b[1;32m~\\anaconda3\\lib\\site-packages\\sklearn\\utils\\validation.py\u001b[0m in \u001b[0;36minner_f\u001b[1;34m(*args, **kwargs)\u001b[0m\n\u001b[0;32m     61\u001b[0m             \u001b[0mextra_args\u001b[0m \u001b[1;33m=\u001b[0m \u001b[0mlen\u001b[0m\u001b[1;33m(\u001b[0m\u001b[0margs\u001b[0m\u001b[1;33m)\u001b[0m \u001b[1;33m-\u001b[0m \u001b[0mlen\u001b[0m\u001b[1;33m(\u001b[0m\u001b[0mall_args\u001b[0m\u001b[1;33m)\u001b[0m\u001b[1;33m\u001b[0m\u001b[1;33m\u001b[0m\u001b[0m\n\u001b[0;32m     62\u001b[0m             \u001b[1;32mif\u001b[0m \u001b[0mextra_args\u001b[0m \u001b[1;33m<=\u001b[0m \u001b[1;36m0\u001b[0m\u001b[1;33m:\u001b[0m\u001b[1;33m\u001b[0m\u001b[1;33m\u001b[0m\u001b[0m\n\u001b[1;32m---> 63\u001b[1;33m                 \u001b[1;32mreturn\u001b[0m \u001b[0mf\u001b[0m\u001b[1;33m(\u001b[0m\u001b[1;33m*\u001b[0m\u001b[0margs\u001b[0m\u001b[1;33m,\u001b[0m \u001b[1;33m**\u001b[0m\u001b[0mkwargs\u001b[0m\u001b[1;33m)\u001b[0m\u001b[1;33m\u001b[0m\u001b[1;33m\u001b[0m\u001b[0m\n\u001b[0m\u001b[0;32m     64\u001b[0m \u001b[1;33m\u001b[0m\u001b[0m\n\u001b[0;32m     65\u001b[0m             \u001b[1;31m# extra_args > 0\u001b[0m\u001b[1;33m\u001b[0m\u001b[1;33m\u001b[0m\u001b[1;33m\u001b[0m\u001b[0m\n",
      "\u001b[1;32m~\\anaconda3\\lib\\site-packages\\sklearn\\utils\\validation.py\u001b[0m in \u001b[0;36mcheck_array\u001b[1;34m(array, accept_sparse, accept_large_sparse, dtype, order, copy, force_all_finite, ensure_2d, allow_nd, ensure_min_samples, ensure_min_features, estimator)\u001b[0m\n\u001b[0;32m    614\u001b[0m                     \u001b[0marray\u001b[0m \u001b[1;33m=\u001b[0m \u001b[0marray\u001b[0m\u001b[1;33m.\u001b[0m\u001b[0mastype\u001b[0m\u001b[1;33m(\u001b[0m\u001b[0mdtype\u001b[0m\u001b[1;33m,\u001b[0m \u001b[0mcasting\u001b[0m\u001b[1;33m=\u001b[0m\u001b[1;34m\"unsafe\"\u001b[0m\u001b[1;33m,\u001b[0m \u001b[0mcopy\u001b[0m\u001b[1;33m=\u001b[0m\u001b[1;32mFalse\u001b[0m\u001b[1;33m)\u001b[0m\u001b[1;33m\u001b[0m\u001b[1;33m\u001b[0m\u001b[0m\n\u001b[0;32m    615\u001b[0m                 \u001b[1;32melse\u001b[0m\u001b[1;33m:\u001b[0m\u001b[1;33m\u001b[0m\u001b[1;33m\u001b[0m\u001b[0m\n\u001b[1;32m--> 616\u001b[1;33m                     \u001b[0marray\u001b[0m \u001b[1;33m=\u001b[0m \u001b[0mnp\u001b[0m\u001b[1;33m.\u001b[0m\u001b[0masarray\u001b[0m\u001b[1;33m(\u001b[0m\u001b[0marray\u001b[0m\u001b[1;33m,\u001b[0m \u001b[0morder\u001b[0m\u001b[1;33m=\u001b[0m\u001b[0morder\u001b[0m\u001b[1;33m,\u001b[0m \u001b[0mdtype\u001b[0m\u001b[1;33m=\u001b[0m\u001b[0mdtype\u001b[0m\u001b[1;33m)\u001b[0m\u001b[1;33m\u001b[0m\u001b[1;33m\u001b[0m\u001b[0m\n\u001b[0m\u001b[0;32m    617\u001b[0m             \u001b[1;32mexcept\u001b[0m \u001b[0mComplexWarning\u001b[0m \u001b[1;32mas\u001b[0m \u001b[0mcomplex_warning\u001b[0m\u001b[1;33m:\u001b[0m\u001b[1;33m\u001b[0m\u001b[1;33m\u001b[0m\u001b[0m\n\u001b[0;32m    618\u001b[0m                 raise ValueError(\"Complex data not supported\\n\"\n",
      "\u001b[1;32m~\\anaconda3\\lib\\site-packages\\numpy\\core\\_asarray.py\u001b[0m in \u001b[0;36masarray\u001b[1;34m(a, dtype, order, like)\u001b[0m\n\u001b[0;32m    100\u001b[0m         \u001b[1;32mreturn\u001b[0m \u001b[0m_asarray_with_like\u001b[0m\u001b[1;33m(\u001b[0m\u001b[0ma\u001b[0m\u001b[1;33m,\u001b[0m \u001b[0mdtype\u001b[0m\u001b[1;33m=\u001b[0m\u001b[0mdtype\u001b[0m\u001b[1;33m,\u001b[0m \u001b[0morder\u001b[0m\u001b[1;33m=\u001b[0m\u001b[0morder\u001b[0m\u001b[1;33m,\u001b[0m \u001b[0mlike\u001b[0m\u001b[1;33m=\u001b[0m\u001b[0mlike\u001b[0m\u001b[1;33m)\u001b[0m\u001b[1;33m\u001b[0m\u001b[1;33m\u001b[0m\u001b[0m\n\u001b[0;32m    101\u001b[0m \u001b[1;33m\u001b[0m\u001b[0m\n\u001b[1;32m--> 102\u001b[1;33m     \u001b[1;32mreturn\u001b[0m \u001b[0marray\u001b[0m\u001b[1;33m(\u001b[0m\u001b[0ma\u001b[0m\u001b[1;33m,\u001b[0m \u001b[0mdtype\u001b[0m\u001b[1;33m,\u001b[0m \u001b[0mcopy\u001b[0m\u001b[1;33m=\u001b[0m\u001b[1;32mFalse\u001b[0m\u001b[1;33m,\u001b[0m \u001b[0morder\u001b[0m\u001b[1;33m=\u001b[0m\u001b[0morder\u001b[0m\u001b[1;33m)\u001b[0m\u001b[1;33m\u001b[0m\u001b[1;33m\u001b[0m\u001b[0m\n\u001b[0m\u001b[0;32m    103\u001b[0m \u001b[1;33m\u001b[0m\u001b[0m\n\u001b[0;32m    104\u001b[0m \u001b[1;33m\u001b[0m\u001b[0m\n",
      "\u001b[1;32m~\\anaconda3\\lib\\site-packages\\pandas\\core\\generic.py\u001b[0m in \u001b[0;36m__array__\u001b[1;34m(self, dtype)\u001b[0m\n\u001b[0;32m   1897\u001b[0m \u001b[1;33m\u001b[0m\u001b[0m\n\u001b[0;32m   1898\u001b[0m     \u001b[1;32mdef\u001b[0m \u001b[0m__array__\u001b[0m\u001b[1;33m(\u001b[0m\u001b[0mself\u001b[0m\u001b[1;33m,\u001b[0m \u001b[0mdtype\u001b[0m\u001b[1;33m=\u001b[0m\u001b[1;32mNone\u001b[0m\u001b[1;33m)\u001b[0m \u001b[1;33m->\u001b[0m \u001b[0mnp\u001b[0m\u001b[1;33m.\u001b[0m\u001b[0mndarray\u001b[0m\u001b[1;33m:\u001b[0m\u001b[1;33m\u001b[0m\u001b[1;33m\u001b[0m\u001b[0m\n\u001b[1;32m-> 1899\u001b[1;33m         \u001b[1;32mreturn\u001b[0m \u001b[0mnp\u001b[0m\u001b[1;33m.\u001b[0m\u001b[0masarray\u001b[0m\u001b[1;33m(\u001b[0m\u001b[0mself\u001b[0m\u001b[1;33m.\u001b[0m\u001b[0m_values\u001b[0m\u001b[1;33m,\u001b[0m \u001b[0mdtype\u001b[0m\u001b[1;33m=\u001b[0m\u001b[0mdtype\u001b[0m\u001b[1;33m)\u001b[0m\u001b[1;33m\u001b[0m\u001b[1;33m\u001b[0m\u001b[0m\n\u001b[0m\u001b[0;32m   1900\u001b[0m \u001b[1;33m\u001b[0m\u001b[0m\n\u001b[0;32m   1901\u001b[0m     def __array_wrap__(\n",
      "\u001b[1;32m~\\anaconda3\\lib\\site-packages\\numpy\\core\\_asarray.py\u001b[0m in \u001b[0;36masarray\u001b[1;34m(a, dtype, order, like)\u001b[0m\n\u001b[0;32m    100\u001b[0m         \u001b[1;32mreturn\u001b[0m \u001b[0m_asarray_with_like\u001b[0m\u001b[1;33m(\u001b[0m\u001b[0ma\u001b[0m\u001b[1;33m,\u001b[0m \u001b[0mdtype\u001b[0m\u001b[1;33m=\u001b[0m\u001b[0mdtype\u001b[0m\u001b[1;33m,\u001b[0m \u001b[0morder\u001b[0m\u001b[1;33m=\u001b[0m\u001b[0morder\u001b[0m\u001b[1;33m,\u001b[0m \u001b[0mlike\u001b[0m\u001b[1;33m=\u001b[0m\u001b[0mlike\u001b[0m\u001b[1;33m)\u001b[0m\u001b[1;33m\u001b[0m\u001b[1;33m\u001b[0m\u001b[0m\n\u001b[0;32m    101\u001b[0m \u001b[1;33m\u001b[0m\u001b[0m\n\u001b[1;32m--> 102\u001b[1;33m     \u001b[1;32mreturn\u001b[0m \u001b[0marray\u001b[0m\u001b[1;33m(\u001b[0m\u001b[0ma\u001b[0m\u001b[1;33m,\u001b[0m \u001b[0mdtype\u001b[0m\u001b[1;33m,\u001b[0m \u001b[0mcopy\u001b[0m\u001b[1;33m=\u001b[0m\u001b[1;32mFalse\u001b[0m\u001b[1;33m,\u001b[0m \u001b[0morder\u001b[0m\u001b[1;33m=\u001b[0m\u001b[0morder\u001b[0m\u001b[1;33m)\u001b[0m\u001b[1;33m\u001b[0m\u001b[1;33m\u001b[0m\u001b[0m\n\u001b[0m\u001b[0;32m    103\u001b[0m \u001b[1;33m\u001b[0m\u001b[0m\n\u001b[0;32m    104\u001b[0m \u001b[1;33m\u001b[0m\u001b[0m\n",
      "\u001b[1;31mValueError\u001b[0m: could not convert string to float: '1d'"
     ]
    }
   ],
   "source": [
    "X = dataset[['expiration', 'gender']]\n",
    "model_1 = KNeighborsClassifier() \n",
    "model_1.fit(X, y_true)\n",
    "X.values.shape\n",
    "#Again, the same problem appears; values must be numbers (integers, floats, etc.)"
   ]
  },
  {
   "cell_type": "code",
   "execution_count": 18,
   "id": "37c7c67a",
   "metadata": {
    "ExecuteTime": {
     "end_time": "2021-12-14T19:34:58.053716Z",
     "start_time": "2021-12-14T19:34:57.925421Z"
    }
   },
   "outputs": [],
   "source": [
    "#We make a new dataframe copy to replace the non-numerical values with numbers\n",
    "dataset_preprocessed = dataset.copy();\n",
    "dataset_preprocessed[\"destination\"].replace({\"No Urgent Place\": 0, \"Home\": 1, \"Work\": 2}, inplace=True)\n",
    "dataset_preprocessed[\"passanger\"].replace({\"Alone\": 0, \"Friend(s)\": 1, \"Kid(s)\": 2, \"Partner\": 3}, inplace=True)\n",
    "dataset_preprocessed[\"weather\"].replace({\"Sunny\": 0, \"Rainy\": 1, \"Snowy\": 2}, inplace=True)\n",
    "dataset_preprocessed[\"time\"].replace({\"7AM\": 0, \"10AM\": 1, \"2PM\": 2, \"6PM\": 3, \"10PM\": 4}, inplace=True)\n",
    "dataset_preprocessed[\"coupon\"].replace({\"Restaurant(<20)\": 0, \"Restaurant(20-50)\": 1, \"Coffee House\": 2, \"Bar\": 3,\n",
    "                                        \"Carry out & Take away\": 4} ,inplace=True)\n",
    "dataset_preprocessed[\"expiration\"].replace({\"2h\": 0, \"1d\": 1}, inplace=True)\n",
    "dataset_preprocessed[\"gender\"].replace({\"Female\": 0, \"Male\": 1}, inplace=True)\n",
    "dataset_preprocessed[\"age\"].replace({\"below21\": 0, \"21\": 1, \"26\": 2, \"31\": 3, \"36\": 4, \"41\": 5, \"46\": 6, \"50plus\": 7},\n",
    "                                    inplace=True)\n",
    "dataset_preprocessed[\"maritalStatus\"].replace({\"Unmarried partner\": 0, \"Single\": 1, \"Married partner\": 2, \"Divorced\": 3,\n",
    "                                               \"Widowed\": 4}, inplace=True)\n",
    "dataset_preprocessed[\"education\"].replace({\"Some college - no degree\": 0, \"Bachelors degree\": 1, \"Associates degree\": 2, \"High School Graduate\": 3,\n",
    "                                           \"Graduate degree (Masters or Doctorate)\": 4, \"Some High School\": 5}, inplace=True)\n",
    "dataset_preprocessed[\"occupation\"].replace({\"Unemployed\": 0, \"Architecture & Engineering\": 1, \"Student\": 2,\n",
    "                                            \"Education&Training&Library\": 3, \"Healthcare Support\": 4 , \"Healthcare Practitioners & Technical\": 5,\n",
    "                                           \"Sales & Related\": 6, \"Management\": 7, \"Arts Design Entertainment Sports & Media\": 8, \"Computer & Mathematical\": 9,\n",
    "                                           \"Life Physical Social Science\": 10, \"Personal Care & Service\": 11,\n",
    "                                            \"Community & Social Services\": 12, \"Office & Administrative Support\": 13, \"Construction & Extraction\": 14,\n",
    "                                           \"Legal\": 15, \"Retired\": 16, \"Installation Maintenance & Repair\": 17,\n",
    "                                            \"Transportation & Material Moving\": 18, \"Business & Financial\": 19, \"Protective Service\": 20,\n",
    "                                            \"Food Preparation & Serving Related\": 21, \"Production Occupations\": 22,\n",
    "                                           \"Building & Grounds Cleaning & Maintenance\": 23, \"Farming Fishing & Forestry\": 24}, inplace=True)\n",
    "dataset_preprocessed[\"income\"].replace({\"Less than $12500\":0, \"$12500 - $24999\": 1, \"$25000 - $37499\": 2, \"$37500 - $49999\": 3,\n",
    "                                        \"$50000 - $62499\": 4, \"$62500 - $74999\": 5, \"$75000 - $87499\": 6, \"$87500 - $99999\": 7,\n",
    "                                        \"$100000 or More\": 8}, inplace=True)\n",
    "dataset_preprocessed[\"Bar\"].replace({\"never\": 0, \"less1\": 1, \"1~3\": 2, \"4~8\": 3, \"gt8\": 4}, inplace=True)\n",
    "dataset_preprocessed[\"CoffeeHouse\"].replace({\"never\": 0, \"less1\": 1, \"1~3\": 2, \"4~8\": 3, \"gt8\": 4}, inplace=True)\n",
    "dataset_preprocessed[\"CarryAway\"].replace({\"never\": 0, \"less1\": 1, \"1~3\": 2, \"4~8\": 3, \"gt8\": 4}, inplace=True)\n",
    "dataset_preprocessed[\"RestaurantLessThan20\"].replace({\"never\": 0, \"less1\": 1, \"1~3\": 2, \"4~8\": 3, \"gt8\": 4}, inplace=True)\n",
    "dataset_preprocessed[\"Restaurant20To50\"].replace({\"never\": 0, \"less1\": 1, \"1~3\": 2, \"4~8\": 3, \"gt8\": 4}, inplace=True)\n",
    "#le = preprocessing.LabelEncoder()\n",
    "#le.fit([\"Female\", \"Male\"])"
   ]
  },
  {
   "cell_type": "code",
   "execution_count": 19,
   "id": "2f898cba",
   "metadata": {
    "ExecuteTime": {
     "end_time": "2021-12-14T19:35:01.288188Z",
     "start_time": "2021-12-14T19:35:01.268447Z"
    }
   },
   "outputs": [
    {
     "name": "stdout",
     "output_type": "stream",
     "text": [
      "<class 'pandas.core.frame.DataFrame'>\n",
      "Int64Index: 12079 entries, 22 to 12683\n",
      "Data columns (total 25 columns):\n",
      " #   Column                Non-Null Count  Dtype\n",
      "---  ------                --------------  -----\n",
      " 0   destination           12079 non-null  int64\n",
      " 1   passanger             12079 non-null  int64\n",
      " 2   weather               12079 non-null  int64\n",
      " 3   temperature           12079 non-null  int64\n",
      " 4   time                  12079 non-null  int64\n",
      " 5   coupon                12079 non-null  int64\n",
      " 6   expiration            12079 non-null  int64\n",
      " 7   gender                12079 non-null  int64\n",
      " 8   age                   12079 non-null  int64\n",
      " 9   maritalStatus         12079 non-null  int64\n",
      " 10  has_children          12079 non-null  int64\n",
      " 11  education             12079 non-null  int64\n",
      " 12  occupation            12079 non-null  int64\n",
      " 13  income                12079 non-null  int64\n",
      " 14  Bar                   12079 non-null  int64\n",
      " 15  CoffeeHouse           12079 non-null  int64\n",
      " 16  CarryAway             12079 non-null  int64\n",
      " 17  RestaurantLessThan20  12079 non-null  int64\n",
      " 18  Restaurant20To50      12079 non-null  int64\n",
      " 19  toCoupon_GEQ5min      12079 non-null  int64\n",
      " 20  toCoupon_GEQ15min     12079 non-null  int64\n",
      " 21  toCoupon_GEQ25min     12079 non-null  int64\n",
      " 22  direction_same        12079 non-null  int64\n",
      " 23  direction_opp         12079 non-null  int64\n",
      " 24  Y                     12079 non-null  int64\n",
      "dtypes: int64(25)\n",
      "memory usage: 2.6 MB\n"
     ]
    }
   ],
   "source": [
    "dataset_preprocessed.head()\n",
    "dataset_preprocessed.info()"
   ]
  },
  {
   "cell_type": "code",
   "execution_count": 20,
   "id": "2040bb6f",
   "metadata": {
    "ExecuteTime": {
     "end_time": "2021-12-14T19:35:03.383034Z",
     "start_time": "2021-12-14T19:35:03.294980Z"
    }
   },
   "outputs": [],
   "source": [
    "dataset_preprocessed.to_csv(\"dataset_preprocessed.csv\")"
   ]
  },
  {
   "cell_type": "code",
   "execution_count": 21,
   "id": "f43723e9",
   "metadata": {
    "ExecuteTime": {
     "end_time": "2021-12-14T19:35:53.920062Z",
     "start_time": "2021-12-14T19:35:53.914704Z"
    }
   },
   "outputs": [],
   "source": [
    "#sns.pairplot(dataset_preprocessed, hue='Y')"
   ]
  },
  {
   "cell_type": "code",
   "execution_count": 14,
   "id": "745a8dd3",
   "metadata": {
    "ExecuteTime": {
     "end_time": "2021-12-11T13:36:40.497305Z",
     "start_time": "2021-12-11T13:36:40.485739Z"
    }
   },
   "outputs": [
    {
     "data": {
      "text/plain": [
       "array([1, 0, 1, ..., 0, 0, 0], dtype=int64)"
      ]
     },
     "execution_count": 14,
     "metadata": {},
     "output_type": "execute_result"
    }
   ],
   "source": [
    "y_true = dataset_preprocessed['Y'].values\n",
    "y_true"
   ]
  },
  {
   "cell_type": "code",
   "execution_count": null,
   "id": "f3e76455",
   "metadata": {},
   "outputs": [],
   "source": [
    "#We implemented simple data exploration methods and models to learn more about our dataset and what to expect.\n",
    "#We tried models with different hyperparameters like n_neighbors, weight, normalization, etc."
   ]
  },
  {
   "cell_type": "code",
   "execution_count": 39,
   "id": "680238b7",
   "metadata": {
    "ExecuteTime": {
     "end_time": "2021-12-11T13:52:29.431938Z",
     "start_time": "2021-12-11T13:52:29.409976Z"
    }
   },
   "outputs": [
    {
     "data": {
      "text/plain": [
       "KNeighborsClassifier()"
      ]
     },
     "execution_count": 39,
     "metadata": {},
     "output_type": "execute_result"
    }
   ],
   "source": [
    "X = dataset_preprocessed[['destination','passanger', 'weather', 'temperature', 'time', 'coupon', 'expiration', 'gender', 'age', 'maritalStatus',  'education', 'occupation','income','direction_same','direction_opp']]\n",
    "\n",
    "model_1 = KNeighborsClassifier() \n",
    "# KNeighborsClassifier(n_neighbors=5, weights='distance') \n",
    "\n",
    "## Fit (i.e. traing) the model\n",
    "model_1.fit(X, y_true)"
   ]
  },
  {
   "cell_type": "code",
   "execution_count": 40,
   "id": "6bb379ff",
   "metadata": {
    "ExecuteTime": {
     "end_time": "2021-12-11T16:40:14.082004Z",
     "start_time": "2021-12-11T16:40:14.074633Z"
    }
   },
   "outputs": [],
   "source": [
    "feature_names = ['destination','passanger', 'weather', 'temperature', 'time', 'coupon', 'expiration', 'gender', 'age', 'maritalStatus',  'education', 'occupation','income','Bar','CoffeeHouse','CarryAway','RestaurantLessThan20','Restaurant20To50','toCoupon_GEQ15min','toCoupon_GEQ25min','direction_same' ,'direction_opp']\n",
    "\n"
   ]
  },
  {
   "cell_type": "code",
   "execution_count": 41,
   "id": "65cee3bd",
   "metadata": {
    "ExecuteTime": {
     "end_time": "2021-12-11T13:26:52.816737Z",
     "start_time": "2021-12-11T13:26:52.812721Z"
    }
   },
   "outputs": [],
   "source": [
    "#plot_decision_regions(X.values, y_true.astype(np.int_), model_1)"
   ]
  },
  {
   "cell_type": "code",
   "execution_count": 42,
   "id": "7adcddb1",
   "metadata": {
    "ExecuteTime": {
     "end_time": "2021-12-11T13:53:50.625023Z",
     "start_time": "2021-12-11T13:53:49.827649Z"
    },
    "scrolled": true
   },
   "outputs": [
    {
     "name": "stdout",
     "output_type": "stream",
     "text": [
      "[[5623 1254]\n",
      " [1538 3664]]\n"
     ]
    },
    {
     "data": {
      "text/plain": [
       "<AxesSubplot:>"
      ]
     },
     "execution_count": 42,
     "metadata": {},
     "output_type": "execute_result"
    },
    {
     "data": {
      "image/png": "[encoded data removed]",
      "text/plain": [
       "<Figure size 432x288 with 2 Axes>"
      ]
     },
     "metadata": {
      "needs_background": "light"
     },
     "output_type": "display_data"
    }
   ],
   "source": [
    "y_hat = model_1.predict(X)\n",
    "labels = dataset_preprocessed[\"Y\"].unique()\n",
    "\n",
    "matrix = confusion_matrix(y_true, y_hat, labels=labels, normalize=None)\n",
    "#matrix = confusion_matrix(y_true, y_hat, labels=labels, normalize='true')\n",
    "print(matrix)\n",
    "\n",
    "sns.heatmap(matrix, annot=True,  \n",
    "                  annot_kws={\"size\": 18},\n",
    "                  fmt='.2f', cmap=\"Greens\", cbar_kws={\"shrink\": .92},\n",
    "                  linewidths=0.1, linecolor='gray')"
   ]
  },
  {
   "cell_type": "code",
   "execution_count": 43,
   "id": "dd7b7970",
   "metadata": {
    "ExecuteTime": {
     "end_time": "2021-12-11T13:53:52.937514Z",
     "start_time": "2021-12-11T13:53:52.910212Z"
    }
   },
   "outputs": [
    {
     "name": "stdout",
     "output_type": "stream",
     "text": [
      "              precision    recall  f1-score   support\n",
      "\n",
      "           0       0.75      0.70      0.72      5202\n",
      "           1       0.79      0.82      0.80      6877\n",
      "\n",
      "    accuracy                           0.77     12079\n",
      "   macro avg       0.77      0.76      0.76     12079\n",
      "weighted avg       0.77      0.77      0.77     12079\n",
      "\n"
     ]
    }
   ],
   "source": [
    "print(classification_report(y_true, y_hat))"
   ]
  },
  {
   "cell_type": "code",
   "execution_count": 44,
   "id": "9be7a835",
   "metadata": {
    "ExecuteTime": {
     "end_time": "2021-12-11T13:46:12.673975Z",
     "start_time": "2021-12-11T13:46:12.142684Z"
    }
   },
   "outputs": [
    {
     "name": "stdout",
     "output_type": "stream",
     "text": [
      "[[6700  177]\n",
      " [   0 5202]]\n",
      "              precision    recall  f1-score   support\n",
      "\n",
      "           0       0.97      1.00      0.98      5202\n",
      "           1       1.00      0.97      0.99      6877\n",
      "\n",
      "    accuracy                           0.99     12079\n",
      "   macro avg       0.98      0.99      0.99     12079\n",
      "weighted avg       0.99      0.99      0.99     12079\n",
      "\n"
     ]
    },
    {
     "data": {
      "image/png": "[encoded data removed]",
      "text/plain": [
       "<Figure size 432x288 with 2 Axes>"
      ]
     },
     "metadata": {
      "needs_background": "light"
     },
     "output_type": "display_data"
    }
   ],
   "source": [
    "X2 = dataset_preprocessed[['destination','passanger', 'weather', 'temperature', 'time', 'coupon', 'expiration', 'gender', 'age', 'maritalStatus',  'education', 'occupation','income','direction_same','direction_opp']]\n",
    "model_2 = KNeighborsClassifier(n_neighbors=5, weights='distance') \n",
    "\n",
    "model_2.fit(X2, y_true)\n",
    "\n",
    "y_hat = model_2.predict(X2)\n",
    "labels = dataset_preprocessed[\"Y\"].unique()\n",
    "\n",
    "matrix2 = confusion_matrix(y_true, y_hat, labels=labels, normalize=None)\n",
    "print(matrix2)\n",
    "\n",
    "sns.heatmap(matrix2, annot=True,  \n",
    "                  annot_kws={\"size\": 18},\n",
    "                  fmt='.2f', cmap=\"Greens\", cbar_kws={\"shrink\": .92},\n",
    "                  linewidths=0.1, linecolor='gray')\n",
    "print(classification_report(y_true, y_hat))"
   ]
  },
  {
   "cell_type": "code",
   "execution_count": 45,
   "id": "33d690a0",
   "metadata": {
    "ExecuteTime": {
     "end_time": "2021-12-11T13:54:18.159538Z",
     "start_time": "2021-12-11T13:54:17.843678Z"
    }
   },
   "outputs": [
    {
     "name": "stdout",
     "output_type": "stream",
     "text": [
      "[[1686  758]\n",
      " [ 770 1014]]\n"
     ]
    },
    {
     "data": {
      "text/plain": [
       "<AxesSubplot:>"
      ]
     },
     "execution_count": 45,
     "metadata": {},
     "output_type": "execute_result"
    },
    {
     "data": {
      "image/png": "[encoded data removed]",
      "text/plain": [
       "<Figure size 432x288 with 2 Axes>"
      ]
     },
     "metadata": {
      "needs_background": "light"
     },
     "output_type": "display_data"
    }
   ],
   "source": [
    "X = dataset_preprocessed[['destination','passanger', 'weather', 'temperature', 'time', 'coupon', 'expiration', 'gender', 'age', 'maritalStatus',  'education', 'occupation','income','direction_same','direction_opp']]\n",
    "y = dataset_preprocessed[\"Y\"]\n",
    "\n",
    "X_train, X_test, y_train, y_test = train_test_split(X, y, test_size=0.35, random_state=42, shuffle=True)\n",
    "\n",
    "model_4 = KNeighborsClassifier(n_neighbors=5, weights='distance') \n",
    "## Try using uniform weights and check the results\n",
    "model_4.fit(X_train, y_train)\n",
    "y_hat = model_4.predict(X_test)\n",
    "\n",
    "matrix = confusion_matrix(y_test, y_hat, labels=y.unique(), normalize=None)\n",
    "print(matrix)\n",
    "\n",
    "sns.heatmap(matrix, annot=True,  \n",
    "                  annot_kws={\"size\": 14},\n",
    "                  fmt='.2f', cmap=\"Blues\", cbar_kws={\"shrink\": .82},\n",
    "                  linewidths=0.1, linecolor='gray')"
   ]
  },
  {
   "cell_type": "code",
   "execution_count": 46,
   "id": "203dabef",
   "metadata": {
    "ExecuteTime": {
     "end_time": "2021-12-11T13:54:20.703838Z",
     "start_time": "2021-12-11T13:54:20.686391Z"
    }
   },
   "outputs": [
    {
     "name": "stdout",
     "output_type": "stream",
     "text": [
      "              precision    recall  f1-score   support\n",
      "\n",
      "           0       0.57      0.57      0.57      1772\n",
      "           1       0.69      0.69      0.69      2456\n",
      "\n",
      "    accuracy                           0.64      4228\n",
      "   macro avg       0.63      0.63      0.63      4228\n",
      "weighted avg       0.64      0.64      0.64      4228\n",
      "\n"
     ]
    }
   ],
   "source": [
    "print(classification_report(y_hat, y_test))"
   ]
  },
  {
   "cell_type": "code",
   "execution_count": 47,
   "id": "c116db5f",
   "metadata": {
    "ExecuteTime": {
     "end_time": "2021-12-11T13:42:53.785338Z",
     "start_time": "2021-12-11T13:42:48.313611Z"
    }
   },
   "outputs": [
    {
     "name": "stdout",
     "output_type": "stream",
     "text": [
      "[[5664 1213]\n",
      " [1563 3639]]\n",
      "              precision    recall  f1-score   support\n",
      "\n",
      "           0       0.75      0.70      0.72      5202\n",
      "           1       0.78      0.82      0.80      6877\n",
      "\n",
      "    accuracy                           0.77     12079\n",
      "   macro avg       0.77      0.76      0.76     12079\n",
      "weighted avg       0.77      0.77      0.77     12079\n",
      "\n"
     ]
    },
    {
     "data": {
      "image/png": "[encoded data removed]",
      "text/plain": [
       "<Figure size 432x288 with 2 Axes>"
      ]
     },
     "metadata": {
      "needs_background": "light"
     },
     "output_type": "display_data"
    }
   ],
   "source": [
    "X3 = dataset_preprocessed.drop(['Y'], axis=1)\n",
    "model_3 = KNeighborsClassifier()\n",
    "model_3.fit(X3, y_true)\n",
    "y_hat = model_3.predict(X3)\n",
    "\n",
    "matrix3 = confusion_matrix(y_true, y_hat, labels=labels, normalize=None)\n",
    "print(matrix3)\n",
    "\n",
    "sns.heatmap(matrix3, annot=True,  \n",
    "                  annot_kws={\"size\": 18},\n",
    "                  fmt='.2f', cmap=\"Blues\", cbar_kws={\"shrink\": .82},\n",
    "                  linewidths=0.1, linecolor='gray')\n",
    "print(classification_report(y_true, y_hat))"
   ]
  },
  {
   "cell_type": "code",
   "execution_count": null,
   "id": "8bb9499f",
   "metadata": {
    "ExecuteTime": {
     "end_time": "2021-12-11T13:47:06.223801Z",
     "start_time": "2021-12-11T13:47:01.538807Z"
    }
   },
   "outputs": [],
   "source": [
    "error_rate = []\n",
    "for i in range(1,20):\n",
    "    knn = KNeighborsClassifier(n_neighbors = i)\n",
    "    knn.fit(X_train, y_train)\n",
    "    pred_i = knn.predict(X3)\n",
    "    error_rate.append(np.mean(pred_i != y_test))\n",
    "    # error_rate.append -> adds error rate of model with various k-value, using the average where prediction not\n",
    "# equal to the test values\n",
    "#error_rate.append(np.mean(pred_i != y_test))\n",
    "plt.figure(figsize=(15,6))\n",
    "plt.plot(error_rate,color='blue',linestyle='dashed',marker='o', markerfacecolor='red', markersize='10')\n",
    "plt.xlabel('no. of K')\n",
    "plt.ylabel('Error Rate')\n",
    "optimal_k = error_rate.index(min(error_rate))\n",
    "print(\"Optimal K: \", optimal_k)"
   ]
  },
  {
   "cell_type": "code",
   "execution_count": 49,
   "id": "7a093d5a",
   "metadata": {
    "ExecuteTime": {
     "end_time": "2021-12-11T13:47:13.350794Z",
     "start_time": "2021-12-11T13:47:12.924937Z"
    }
   },
   "outputs": [
    {
     "name": "stdout",
     "output_type": "stream",
     "text": [
      "[[1155  629]\n",
      " [ 976 1468]]\n",
      "              precision    recall  f1-score   support\n",
      "\n",
      "           0       0.54      0.65      0.59      1784\n",
      "           1       0.70      0.60      0.65      2444\n",
      "\n",
      "    accuracy                           0.62      4228\n",
      "   macro avg       0.62      0.62      0.62      4228\n",
      "weighted avg       0.63      0.62      0.62      4228\n",
      "\n"
     ]
    },
    {
     "data": {
      "text/plain": [
       "<AxesSubplot:>"
      ]
     },
     "execution_count": 49,
     "metadata": {},
     "output_type": "execute_result"
    },
    {
     "data": {
      "image/png": "[encoded data removed]",
      "text/plain": [
       "<Figure size 432x288 with 2 Axes>"
      ]
     },
     "metadata": {
      "needs_background": "light"
     },
     "output_type": "display_data"
    }
   ],
   "source": [
    "model_5 = KNeighborsClassifier(n_neighbors = 8)\n",
    "model_5.fit(X_train, y_train)\n",
    "y_hat = model_5.predict(X_test)\n",
    "print(confusion_matrix(y_test, y_hat))\n",
    "matrix = confusion_matrix(y_test, y_hat, labels=y.unique(), normalize=None)\n",
    "print(classification_report(y_test, y_hat))\n",
    "sns.heatmap(matrix, annot=True,  \n",
    "                  annot_kws={\"size\": 14},\n",
    "                  fmt='.2f', cmap=\"Blues\", cbar_kws={\"shrink\": .82},\n",
    "                  linewidths=0.1, linecolor='gray')"
   ]
  },
  {
   "cell_type": "code",
   "execution_count": 50,
   "id": "49388d5f",
   "metadata": {
    "ExecuteTime": {
     "end_time": "2021-12-11T13:47:26.634193Z",
     "start_time": "2021-12-11T13:47:19.582688Z"
    }
   },
   "outputs": [
    {
     "name": "stdout",
     "output_type": "stream",
     "text": [
      "Optimal K:  8\n"
     ]
    },
    {
     "data": {
      "image/png": "[encoded data removed]",
      "text/plain": [
       "<Figure size 1080x432 with 1 Axes>"
      ]
     },
     "metadata": {
      "needs_background": "light"
     },
     "output_type": "display_data"
    }
   ],
   "source": [
    "error_rate = []\n",
    "for i in range(1,30):\n",
    "    knn = KNeighborsClassifier(n_neighbors = i)\n",
    "    knn.fit(X_train, y_train)\n",
    "    pred_i = knn.predict(X_test)\n",
    "    error_rate.append(np.mean(pred_i != y_test))\n",
    "    # error_rate.append -> adds error rate of model with various k-value, using the average where prediction not\n",
    "# equal to the test values\n",
    "error_rate.append(np.mean(pred_i != y_test))\n",
    "plt.figure(figsize=(15,6))\n",
    "plt.plot(error_rate,color='blue',linestyle='dashed',marker='o', markerfacecolor='red', markersize='10')\n",
    "plt.xlabel('no. of K')\n",
    "plt.ylabel('Error Rate')\n",
    "optimal_k = error_rate.index(min(error_rate))\n",
    "print(\"Optimal K: \", optimal_k)"
   ]
  },
  {
   "cell_type": "code",
   "execution_count": 51,
   "id": "0b71a193",
   "metadata": {
    "ExecuteTime": {
     "end_time": "2021-12-11T13:47:56.619882Z",
     "start_time": "2021-12-11T13:47:46.657649Z"
    }
   },
   "outputs": [
    {
     "name": "stdout",
     "output_type": "stream",
     "text": [
      "Optimal K:  8\n"
     ]
    },
    {
     "data": {
      "image/png": "[encoded data removed]",
      "text/plain": [
       "<Figure size 1080x432 with 1 Axes>"
      ]
     },
     "metadata": {
      "needs_background": "light"
     },
     "output_type": "display_data"
    }
   ],
   "source": [
    "error_rate = []\n",
    "for i in range(1,40):\n",
    "    knn = KNeighborsClassifier(n_neighbors = i)\n",
    "    knn.fit(X_train, y_train)\n",
    "    pred_i = knn.predict(X_test)\n",
    "    error_rate.append(np.mean(pred_i != y_test))\n",
    "    # error_rate.append -> adds error rate of model with various k-value, using the average where prediction not\n",
    "# equal to the test values\n",
    "error_rate.append(np.mean(pred_i != y_test))\n",
    "plt.figure(figsize=(15,6))\n",
    "plt.plot(error_rate,color='blue',linestyle='dashed',marker='o', markerfacecolor='red', markersize='10')\n",
    "plt.xlabel('no. of K')\n",
    "plt.ylabel('Error Rate')\n",
    "optimal_k = error_rate.index(min(error_rate))\n",
    "print(\"Optimal K: \", optimal_k)"
   ]
  },
  {
   "cell_type": "code",
   "execution_count": 52,
   "id": "34161fbc",
   "metadata": {
    "ExecuteTime": {
     "end_time": "2021-12-11T13:49:37.280238Z",
     "start_time": "2021-12-11T13:49:13.675307Z"
    }
   },
   "outputs": [
    {
     "name": "stdout",
     "output_type": "stream",
     "text": [
      "[0.597 0.571 0.609 0.599 0.608 0.608 0.606 0.609 0.607 0.605 0.6   0.604\n",
      " 0.603 0.609 0.601 0.609 0.599 0.605 0.602 0.606 0.598 0.601 0.595 0.601\n",
      " 0.594 0.598 0.591 0.6   0.596 0.602 0.593 0.6   0.595 0.6   0.594 0.598\n",
      " 0.594 0.6   0.59  0.597 0.589 0.598 0.588 0.592 0.586 0.593 0.582 0.588\n",
      " 0.582]\n"
     ]
    },
    {
     "data": {
      "image/png": "[encoded data removed]",
      "text/plain": [
       "<Figure size 432x288 with 1 Axes>"
      ]
     },
     "metadata": {
      "needs_background": "light"
     },
     "output_type": "display_data"
    }
   ],
   "source": [
    "from sklearn import metrics\n",
    "k_range=list(range(1,50))\n",
    "k_scores=[]\n",
    "for k in k_range:\n",
    "    knn=KNeighborsClassifier(n_neighbors=k)\n",
    "    knn.fit(X_train, y_train)\n",
    "    scores=cross_val_score(knn, X_train, y_train,cv=5, scoring='f1_macro')  # or ‘f1_micro’, ‘f1_weighted’\n",
    "    k_scores.append(scores.mean())\n",
    "print(np.round(k_scores,3)) # to display scores to 3 decimal places\n",
    "                                                                          \n",
    "plt.plot(k_range,k_scores)\n",
    "plt.xlabel('k values')\n",
    "plt.ylabel('F1-Score-weighted')\n",
    "plt.show()"
   ]
  },
  {
   "cell_type": "code",
   "execution_count": 53,
   "id": "892e195c",
   "metadata": {
    "ExecuteTime": {
     "end_time": "2021-12-11T13:49:55.416963Z",
     "start_time": "2021-12-11T13:49:55.409791Z"
    }
   },
   "outputs": [
    {
     "name": "stdout",
     "output_type": "stream",
     "text": [
      "Optimal K:  16\n"
     ]
    }
   ],
   "source": [
    "optimal_k = k_range[k_scores.index(max(k_scores))]\n",
    "print(\"Optimal K: \", optimal_k)"
   ]
  },
  {
   "cell_type": "code",
   "execution_count": 54,
   "id": "523693ed",
   "metadata": {
    "ExecuteTime": {
     "end_time": "2021-12-11T15:09:56.730777Z",
     "start_time": "2021-12-11T15:09:56.362955Z"
    }
   },
   "outputs": [
    {
     "name": "stdout",
     "output_type": "stream",
     "text": [
      "[[1686  758]\n",
      " [ 770 1014]]\n",
      "              precision    recall  f1-score   support\n",
      "\n",
      "           0       0.57      0.57      0.57      1784\n",
      "           1       0.69      0.69      0.69      2444\n",
      "\n",
      "    accuracy                           0.64      4228\n",
      "   macro avg       0.63      0.63      0.63      4228\n",
      "weighted avg       0.64      0.64      0.64      4228\n",
      "\n"
     ]
    },
    {
     "data": {
      "text/plain": [
       "<AxesSubplot:>"
      ]
     },
     "execution_count": 54,
     "metadata": {},
     "output_type": "execute_result"
    },
    {
     "data": {
      "image/png": "[encoded data removed]",
      "text/plain": [
       "<Figure size 432x288 with 2 Axes>"
      ]
     },
     "metadata": {
      "needs_background": "light"
     },
     "output_type": "display_data"
    }
   ],
   "source": [
    "# Training the model on Optimal K.\n",
    "knn_optimal = KNeighborsClassifier(n_neighbors=5, weights='distance') \n",
    "knn_optimal.fit(X_train, y_train)\n",
    "\n",
    "y_hat = knn_optimal.predict(X_test)\n",
    "matrix = confusion_matrix(y_test, y_hat, labels=y.unique(), normalize=None)\n",
    "print(matrix)\n",
    "print(classification_report(y_test, y_hat))\n",
    "sns.heatmap(matrix, annot=True,  \n",
    "                  annot_kws={\"size\": 14},\n",
    "                  fmt='.2f', cmap=\"Blues\", cbar_kws={\"shrink\": .82},\n",
    "                  linewidths=0.1, linecolor='gray')"
   ]
  },
  {
   "cell_type": "code",
   "execution_count": 55,
   "id": "d1b30dde",
   "metadata": {
    "ExecuteTime": {
     "end_time": "2021-12-11T15:10:13.747235Z",
     "start_time": "2021-12-11T15:10:13.279643Z"
    }
   },
   "outputs": [
    {
     "name": "stdout",
     "output_type": "stream",
     "text": [
      "[[1155  629]\n",
      " [ 976 1468]]\n",
      "              precision    recall  f1-score   support\n",
      "\n",
      "           0       0.54      0.65      0.59      1784\n",
      "           1       0.70      0.60      0.65      2444\n",
      "\n",
      "    accuracy                           0.62      4228\n",
      "   macro avg       0.62      0.62      0.62      4228\n",
      "weighted avg       0.63      0.62      0.62      4228\n",
      "\n"
     ]
    },
    {
     "data": {
      "text/plain": [
       "<AxesSubplot:>"
      ]
     },
     "execution_count": 55,
     "metadata": {},
     "output_type": "execute_result"
    },
    {
     "data": {
      "image/png": "[encoded data removed]",
      "text/plain": [
       "<Figure size 432x288 with 2 Axes>"
      ]
     },
     "metadata": {
      "needs_background": "light"
     },
     "output_type": "display_data"
    }
   ],
   "source": [
    "model_5 = KNeighborsClassifier(n_neighbors = 8)\n",
    "model_5.fit(X_train, y_train)\n",
    "y_hat = model_5.predict(X_test)\n",
    "print(confusion_matrix(y_test, y_hat))\n",
    "matrix = confusion_matrix(y_test, y_hat, labels=y.unique(), normalize=\"true\")\n",
    "print(classification_report(y_test, y_hat))\n",
    "sns.heatmap(matrix, annot=True,  \n",
    "                  annot_kws={\"size\": 14},\n",
    "                  fmt='.2f', cmap=\"Blues\", cbar_kws={\"shrink\": .82},\n",
    "                  linewidths=0.1, linecolor='gray')"
   ]
  },
  {
   "cell_type": "code",
   "execution_count": 56,
   "id": "4cd03a1e",
   "metadata": {
    "ExecuteTime": {
     "end_time": "2021-12-11T15:23:12.264841Z",
     "start_time": "2021-12-11T15:23:11.850711Z"
    }
   },
   "outputs": [
    {
     "name": "stdout",
     "output_type": "stream",
     "text": [
      "[[6254  623]\n",
      " [ 141 5061]]\n",
      "              precision    recall  f1-score   support\n",
      "\n",
      "           0       0.89      0.97      0.93      5202\n",
      "           1       0.98      0.91      0.94      6877\n",
      "\n",
      "    accuracy                           0.94     12079\n",
      "   macro avg       0.93      0.94      0.94     12079\n",
      "weighted avg       0.94      0.94      0.94     12079\n",
      "\n"
     ]
    },
    {
     "data": {
      "image/png": "[encoded data removed]",
      "text/plain": [
       "<Figure size 432x288 with 2 Axes>"
      ]
     },
     "metadata": {
      "needs_background": "light"
     },
     "output_type": "display_data"
    }
   ],
   "source": [
    "#Here weights= 'distance', K=5 \n",
    "X2 = dataset_preprocessed[['destination',  'time', 'coupon',  'gender', 'age',  'education', 'occupation','income','direction_same','direction_opp']]\n",
    "#model_2 = KNeighborsClassifier() \n",
    "model_2 = KNeighborsClassifier(n_neighbors=5, weights='distance') \n",
    "model_2.fit(X2, y_true)\n",
    "\n",
    "y_hat = model_2.predict(X2)\n",
    "labels = dataset_preprocessed[\"Y\"].unique()\n",
    "\n",
    "matrix2 = confusion_matrix(y_true, y_hat, labels=labels, normalize=None)\n",
    "print(matrix2)\n",
    "\n",
    "sns.heatmap(matrix2, annot=True,  \n",
    "                  annot_kws={\"size\": 18},\n",
    "                  fmt='.2f', cmap=\"Greens\", cbar_kws={\"shrink\": .92},\n",
    "                  linewidths=0.1, linecolor='gray')\n",
    "print(classification_report(y_true, y_hat))"
   ]
  },
  {
   "cell_type": "code",
   "execution_count": 59,
   "id": "73acb70c",
   "metadata": {
    "ExecuteTime": {
     "end_time": "2021-12-11T17:55:48.928112Z",
     "start_time": "2021-12-11T17:55:48.907871Z"
    }
   },
   "outputs": [
    {
     "data": {
      "text/plain": [
       "KNeighborsClassifier()"
      ]
     },
     "execution_count": 59,
     "metadata": {},
     "output_type": "execute_result"
    }
   ],
   "source": [
    " X = dataset_preprocessed[feature_names]\n",
    "\n",
    "model_1 = KNeighborsClassifier() \n",
    "# KNeighborsClassifier(n_neighbors=5, weights='distance') \n",
    "\n",
    "## Fit (i.e. traing) the model\n",
    "model_1.fit(X, y_true)"
   ]
  },
  {
   "cell_type": "code",
   "execution_count": 60,
   "id": "11f86784",
   "metadata": {
    "ExecuteTime": {
     "end_time": "2021-12-11T17:56:14.959718Z",
     "start_time": "2021-12-11T17:56:14.915934Z"
    }
   },
   "outputs": [
    {
     "name": "stdout",
     "output_type": "stream",
     "text": [
      "              precision    recall  f1-score   support\n",
      "\n",
      "           0       0.75      0.71      0.73      5202\n",
      "           1       0.79      0.82      0.80      6877\n",
      "\n",
      "    accuracy                           0.77     12079\n",
      "   macro avg       0.77      0.76      0.76     12079\n",
      "weighted avg       0.77      0.77      0.77     12079\n",
      "\n"
     ]
    }
   ],
   "source": [
    "print(classification_report(y_true, y_hat))\n",
    "#plot_decision_regions(X.values, y_true.astype(np.int_), model_1)"
   ]
  },
  {
   "cell_type": "code",
   "execution_count": 62,
   "id": "481e2209",
   "metadata": {
    "ExecuteTime": {
     "end_time": "2021-12-11T18:13:39.197316Z",
     "start_time": "2021-12-11T18:13:32.943258Z"
    },
    "collapsed": true
   },
   "outputs": [
    {
     "ename": "KeyboardInterrupt",
     "evalue": "",
     "output_type": "error",
     "traceback": [
      "\u001b[1;31m---------------------------------------------------------------------------\u001b[0m",
      "\u001b[1;31mKeyboardInterrupt\u001b[0m                         Traceback (most recent call last)",
      "\u001b[1;32m<ipython-input-62-8ec3c5fd505d>\u001b[0m in \u001b[0;36m<module>\u001b[1;34m\u001b[0m\n\u001b[0;32m     18\u001b[0m             \u001b[0mmodel_2\u001b[0m\u001b[1;33m.\u001b[0m\u001b[0mfit\u001b[0m\u001b[1;33m(\u001b[0m\u001b[0mX_train\u001b[0m\u001b[1;33m,\u001b[0m \u001b[0my_train\u001b[0m\u001b[1;33m)\u001b[0m\u001b[1;33m\u001b[0m\u001b[1;33m\u001b[0m\u001b[0m\n\u001b[0;32m     19\u001b[0m             \u001b[0my_pred\u001b[0m \u001b[1;33m=\u001b[0m \u001b[0mmodel_2\u001b[0m\u001b[1;33m.\u001b[0m\u001b[0mpredict\u001b[0m\u001b[1;33m(\u001b[0m\u001b[0mX_test\u001b[0m\u001b[1;33m)\u001b[0m\u001b[1;33m\u001b[0m\u001b[1;33m\u001b[0m\u001b[0m\n\u001b[1;32m---> 20\u001b[1;33m             \u001b[0mscore\u001b[0m\u001b[1;33m=\u001b[0m \u001b[0mmodel_2\u001b[0m\u001b[1;33m.\u001b[0m\u001b[0mscore\u001b[0m\u001b[1;33m(\u001b[0m\u001b[0mX_test\u001b[0m\u001b[1;33m,\u001b[0m \u001b[0my_test\u001b[0m\u001b[1;33m)\u001b[0m\u001b[1;33m\u001b[0m\u001b[1;33m\u001b[0m\u001b[0m\n\u001b[0m\u001b[0;32m     21\u001b[0m             \u001b[1;32mif\u001b[0m\u001b[1;33m(\u001b[0m\u001b[0mscore\u001b[0m\u001b[1;33m*\u001b[0m\u001b[1;36m100\u001b[0m \u001b[1;33m>\u001b[0m \u001b[0mbest_k_score\u001b[0m\u001b[1;33m)\u001b[0m\u001b[1;33m:\u001b[0m\u001b[1;33m\u001b[0m\u001b[1;33m\u001b[0m\u001b[0m\n\u001b[0;32m     22\u001b[0m                 \u001b[0mbest_k_score\u001b[0m \u001b[1;33m=\u001b[0m \u001b[0mscore\u001b[0m \u001b[1;33m*\u001b[0m \u001b[1;36m100\u001b[0m\u001b[1;33m\u001b[0m\u001b[1;33m\u001b[0m\u001b[0m\n",
      "\u001b[1;32m~\\anaconda3\\lib\\site-packages\\sklearn\\base.py\u001b[0m in \u001b[0;36mscore\u001b[1;34m(self, X, y, sample_weight)\u001b[0m\n\u001b[0;32m    498\u001b[0m         \"\"\"\n\u001b[0;32m    499\u001b[0m         \u001b[1;32mfrom\u001b[0m \u001b[1;33m.\u001b[0m\u001b[0mmetrics\u001b[0m \u001b[1;32mimport\u001b[0m \u001b[0maccuracy_score\u001b[0m\u001b[1;33m\u001b[0m\u001b[1;33m\u001b[0m\u001b[0m\n\u001b[1;32m--> 500\u001b[1;33m         \u001b[1;32mreturn\u001b[0m \u001b[0maccuracy_score\u001b[0m\u001b[1;33m(\u001b[0m\u001b[0my\u001b[0m\u001b[1;33m,\u001b[0m \u001b[0mself\u001b[0m\u001b[1;33m.\u001b[0m\u001b[0mpredict\u001b[0m\u001b[1;33m(\u001b[0m\u001b[0mX\u001b[0m\u001b[1;33m)\u001b[0m\u001b[1;33m,\u001b[0m \u001b[0msample_weight\u001b[0m\u001b[1;33m=\u001b[0m\u001b[0msample_weight\u001b[0m\u001b[1;33m)\u001b[0m\u001b[1;33m\u001b[0m\u001b[1;33m\u001b[0m\u001b[0m\n\u001b[0m\u001b[0;32m    501\u001b[0m \u001b[1;33m\u001b[0m\u001b[0m\n\u001b[0;32m    502\u001b[0m     \u001b[1;32mdef\u001b[0m \u001b[0m_more_tags\u001b[0m\u001b[1;33m(\u001b[0m\u001b[0mself\u001b[0m\u001b[1;33m)\u001b[0m\u001b[1;33m:\u001b[0m\u001b[1;33m\u001b[0m\u001b[1;33m\u001b[0m\u001b[0m\n",
      "\u001b[1;32m~\\anaconda3\\lib\\site-packages\\sklearn\\neighbors\\_classification.py\u001b[0m in \u001b[0;36mpredict\u001b[1;34m(self, X)\u001b[0m\n\u001b[0;32m    195\u001b[0m         \u001b[0mX\u001b[0m \u001b[1;33m=\u001b[0m \u001b[0mcheck_array\u001b[0m\u001b[1;33m(\u001b[0m\u001b[0mX\u001b[0m\u001b[1;33m,\u001b[0m \u001b[0maccept_sparse\u001b[0m\u001b[1;33m=\u001b[0m\u001b[1;34m'csr'\u001b[0m\u001b[1;33m)\u001b[0m\u001b[1;33m\u001b[0m\u001b[1;33m\u001b[0m\u001b[0m\n\u001b[0;32m    196\u001b[0m \u001b[1;33m\u001b[0m\u001b[0m\n\u001b[1;32m--> 197\u001b[1;33m         \u001b[0mneigh_dist\u001b[0m\u001b[1;33m,\u001b[0m \u001b[0mneigh_ind\u001b[0m \u001b[1;33m=\u001b[0m \u001b[0mself\u001b[0m\u001b[1;33m.\u001b[0m\u001b[0mkneighbors\u001b[0m\u001b[1;33m(\u001b[0m\u001b[0mX\u001b[0m\u001b[1;33m)\u001b[0m\u001b[1;33m\u001b[0m\u001b[1;33m\u001b[0m\u001b[0m\n\u001b[0m\u001b[0;32m    198\u001b[0m         \u001b[0mclasses_\u001b[0m \u001b[1;33m=\u001b[0m \u001b[0mself\u001b[0m\u001b[1;33m.\u001b[0m\u001b[0mclasses_\u001b[0m\u001b[1;33m\u001b[0m\u001b[1;33m\u001b[0m\u001b[0m\n\u001b[0;32m    199\u001b[0m         \u001b[0m_y\u001b[0m \u001b[1;33m=\u001b[0m \u001b[0mself\u001b[0m\u001b[1;33m.\u001b[0m\u001b[0m_y\u001b[0m\u001b[1;33m\u001b[0m\u001b[1;33m\u001b[0m\u001b[0m\n",
      "\u001b[1;32m~\\anaconda3\\lib\\site-packages\\sklearn\\neighbors\\_base.py\u001b[0m in \u001b[0;36mkneighbors\u001b[1;34m(self, X, n_neighbors, return_distance)\u001b[0m\n\u001b[0;32m    703\u001b[0m                 \u001b[0mkwds\u001b[0m \u001b[1;33m=\u001b[0m \u001b[0mself\u001b[0m\u001b[1;33m.\u001b[0m\u001b[0meffective_metric_params_\u001b[0m\u001b[1;33m\u001b[0m\u001b[1;33m\u001b[0m\u001b[0m\n\u001b[0;32m    704\u001b[0m \u001b[1;33m\u001b[0m\u001b[0m\n\u001b[1;32m--> 705\u001b[1;33m             chunked_results = list(pairwise_distances_chunked(\n\u001b[0m\u001b[0;32m    706\u001b[0m                 \u001b[0mX\u001b[0m\u001b[1;33m,\u001b[0m \u001b[0mself\u001b[0m\u001b[1;33m.\u001b[0m\u001b[0m_fit_X\u001b[0m\u001b[1;33m,\u001b[0m \u001b[0mreduce_func\u001b[0m\u001b[1;33m=\u001b[0m\u001b[0mreduce_func\u001b[0m\u001b[1;33m,\u001b[0m\u001b[1;33m\u001b[0m\u001b[1;33m\u001b[0m\u001b[0m\n\u001b[0;32m    707\u001b[0m                 \u001b[0mmetric\u001b[0m\u001b[1;33m=\u001b[0m\u001b[0mself\u001b[0m\u001b[1;33m.\u001b[0m\u001b[0meffective_metric_\u001b[0m\u001b[1;33m,\u001b[0m \u001b[0mn_jobs\u001b[0m\u001b[1;33m=\u001b[0m\u001b[0mn_jobs\u001b[0m\u001b[1;33m,\u001b[0m\u001b[1;33m\u001b[0m\u001b[1;33m\u001b[0m\u001b[0m\n",
      "\u001b[1;32m~\\anaconda3\\lib\\site-packages\\sklearn\\metrics\\pairwise.py\u001b[0m in \u001b[0;36mpairwise_distances_chunked\u001b[1;34m(X, Y, reduce_func, metric, n_jobs, working_memory, **kwds)\u001b[0m\n\u001b[0;32m   1631\u001b[0m         \u001b[1;32mif\u001b[0m \u001b[0mreduce_func\u001b[0m \u001b[1;32mis\u001b[0m \u001b[1;32mnot\u001b[0m \u001b[1;32mNone\u001b[0m\u001b[1;33m:\u001b[0m\u001b[1;33m\u001b[0m\u001b[1;33m\u001b[0m\u001b[0m\n\u001b[0;32m   1632\u001b[0m             \u001b[0mchunk_size\u001b[0m \u001b[1;33m=\u001b[0m \u001b[0mD_chunk\u001b[0m\u001b[1;33m.\u001b[0m\u001b[0mshape\u001b[0m\u001b[1;33m[\u001b[0m\u001b[1;36m0\u001b[0m\u001b[1;33m]\u001b[0m\u001b[1;33m\u001b[0m\u001b[1;33m\u001b[0m\u001b[0m\n\u001b[1;32m-> 1633\u001b[1;33m             \u001b[0mD_chunk\u001b[0m \u001b[1;33m=\u001b[0m \u001b[0mreduce_func\u001b[0m\u001b[1;33m(\u001b[0m\u001b[0mD_chunk\u001b[0m\u001b[1;33m,\u001b[0m \u001b[0msl\u001b[0m\u001b[1;33m.\u001b[0m\u001b[0mstart\u001b[0m\u001b[1;33m)\u001b[0m\u001b[1;33m\u001b[0m\u001b[1;33m\u001b[0m\u001b[0m\n\u001b[0m\u001b[0;32m   1634\u001b[0m             \u001b[0m_check_chunk_size\u001b[0m\u001b[1;33m(\u001b[0m\u001b[0mD_chunk\u001b[0m\u001b[1;33m,\u001b[0m \u001b[0mchunk_size\u001b[0m\u001b[1;33m)\u001b[0m\u001b[1;33m\u001b[0m\u001b[1;33m\u001b[0m\u001b[0m\n\u001b[0;32m   1635\u001b[0m         \u001b[1;32myield\u001b[0m \u001b[0mD_chunk\u001b[0m\u001b[1;33m\u001b[0m\u001b[1;33m\u001b[0m\u001b[0m\n",
      "\u001b[1;32m~\\anaconda3\\lib\\site-packages\\sklearn\\neighbors\\_base.py\u001b[0m in \u001b[0;36m_kneighbors_reduce_func\u001b[1;34m(self, dist, start, n_neighbors, return_distance)\u001b[0m\n\u001b[0;32m    580\u001b[0m         \"\"\"\n\u001b[0;32m    581\u001b[0m         \u001b[0msample_range\u001b[0m \u001b[1;33m=\u001b[0m \u001b[0mnp\u001b[0m\u001b[1;33m.\u001b[0m\u001b[0marange\u001b[0m\u001b[1;33m(\u001b[0m\u001b[0mdist\u001b[0m\u001b[1;33m.\u001b[0m\u001b[0mshape\u001b[0m\u001b[1;33m[\u001b[0m\u001b[1;36m0\u001b[0m\u001b[1;33m]\u001b[0m\u001b[1;33m)\u001b[0m\u001b[1;33m[\u001b[0m\u001b[1;33m:\u001b[0m\u001b[1;33m,\u001b[0m \u001b[1;32mNone\u001b[0m\u001b[1;33m]\u001b[0m\u001b[1;33m\u001b[0m\u001b[1;33m\u001b[0m\u001b[0m\n\u001b[1;32m--> 582\u001b[1;33m         \u001b[0mneigh_ind\u001b[0m \u001b[1;33m=\u001b[0m \u001b[0mnp\u001b[0m\u001b[1;33m.\u001b[0m\u001b[0margpartition\u001b[0m\u001b[1;33m(\u001b[0m\u001b[0mdist\u001b[0m\u001b[1;33m,\u001b[0m \u001b[0mn_neighbors\u001b[0m \u001b[1;33m-\u001b[0m \u001b[1;36m1\u001b[0m\u001b[1;33m,\u001b[0m \u001b[0maxis\u001b[0m\u001b[1;33m=\u001b[0m\u001b[1;36m1\u001b[0m\u001b[1;33m)\u001b[0m\u001b[1;33m\u001b[0m\u001b[1;33m\u001b[0m\u001b[0m\n\u001b[0m\u001b[0;32m    583\u001b[0m         \u001b[0mneigh_ind\u001b[0m \u001b[1;33m=\u001b[0m \u001b[0mneigh_ind\u001b[0m\u001b[1;33m[\u001b[0m\u001b[1;33m:\u001b[0m\u001b[1;33m,\u001b[0m \u001b[1;33m:\u001b[0m\u001b[0mn_neighbors\u001b[0m\u001b[1;33m]\u001b[0m\u001b[1;33m\u001b[0m\u001b[1;33m\u001b[0m\u001b[0m\n\u001b[0;32m    584\u001b[0m         \u001b[1;31m# argpartition doesn't guarantee sorted order, so we sort again\u001b[0m\u001b[1;33m\u001b[0m\u001b[1;33m\u001b[0m\u001b[1;33m\u001b[0m\u001b[0m\n",
      "\u001b[1;32m<__array_function__ internals>\u001b[0m in \u001b[0;36margpartition\u001b[1;34m(*args, **kwargs)\u001b[0m\n",
      "\u001b[1;32m~\\anaconda3\\lib\\site-packages\\numpy\\core\\fromnumeric.py\u001b[0m in \u001b[0;36margpartition\u001b[1;34m(a, kth, axis, kind, order)\u001b[0m\n\u001b[0;32m    835\u001b[0m \u001b[1;33m\u001b[0m\u001b[0m\n\u001b[0;32m    836\u001b[0m     \"\"\"\n\u001b[1;32m--> 837\u001b[1;33m     \u001b[1;32mreturn\u001b[0m \u001b[0m_wrapfunc\u001b[0m\u001b[1;33m(\u001b[0m\u001b[0ma\u001b[0m\u001b[1;33m,\u001b[0m \u001b[1;34m'argpartition'\u001b[0m\u001b[1;33m,\u001b[0m \u001b[0mkth\u001b[0m\u001b[1;33m,\u001b[0m \u001b[0maxis\u001b[0m\u001b[1;33m=\u001b[0m\u001b[0maxis\u001b[0m\u001b[1;33m,\u001b[0m \u001b[0mkind\u001b[0m\u001b[1;33m=\u001b[0m\u001b[0mkind\u001b[0m\u001b[1;33m,\u001b[0m \u001b[0morder\u001b[0m\u001b[1;33m=\u001b[0m\u001b[0morder\u001b[0m\u001b[1;33m)\u001b[0m\u001b[1;33m\u001b[0m\u001b[1;33m\u001b[0m\u001b[0m\n\u001b[0m\u001b[0;32m    838\u001b[0m \u001b[1;33m\u001b[0m\u001b[0m\n\u001b[0;32m    839\u001b[0m \u001b[1;33m\u001b[0m\u001b[0m\n",
      "\u001b[1;32m~\\anaconda3\\lib\\site-packages\\numpy\\core\\fromnumeric.py\u001b[0m in \u001b[0;36m_wrapfunc\u001b[1;34m(obj, method, *args, **kwds)\u001b[0m\n\u001b[0;32m     56\u001b[0m \u001b[1;33m\u001b[0m\u001b[0m\n\u001b[0;32m     57\u001b[0m     \u001b[1;32mtry\u001b[0m\u001b[1;33m:\u001b[0m\u001b[1;33m\u001b[0m\u001b[1;33m\u001b[0m\u001b[0m\n\u001b[1;32m---> 58\u001b[1;33m         \u001b[1;32mreturn\u001b[0m \u001b[0mbound\u001b[0m\u001b[1;33m(\u001b[0m\u001b[1;33m*\u001b[0m\u001b[0margs\u001b[0m\u001b[1;33m,\u001b[0m \u001b[1;33m**\u001b[0m\u001b[0mkwds\u001b[0m\u001b[1;33m)\u001b[0m\u001b[1;33m\u001b[0m\u001b[1;33m\u001b[0m\u001b[0m\n\u001b[0m\u001b[0;32m     59\u001b[0m     \u001b[1;32mexcept\u001b[0m \u001b[0mTypeError\u001b[0m\u001b[1;33m:\u001b[0m\u001b[1;33m\u001b[0m\u001b[1;33m\u001b[0m\u001b[0m\n\u001b[0;32m     60\u001b[0m         \u001b[1;31m# A TypeError occurs if the object does have such a method in its\u001b[0m\u001b[1;33m\u001b[0m\u001b[1;33m\u001b[0m\u001b[1;33m\u001b[0m\u001b[0m\n",
      "\u001b[1;31mKeyboardInterrupt\u001b[0m: "
     ]
    }
   ],
   "source": [
    "X = dataset_preprocessed.drop(['Y'], axis=1)\n",
    "Xt = X.copy()\n",
    "y = dataset_preprocessed['Y']\n",
    "best_k_score =0\n",
    "best_i = 0\n",
    "best_split = 0\n",
    "\n",
    "#Using Splitting\n",
    "for f in range (-1,10):\n",
    "    if(f != -1):\n",
    "        Xt = X.drop([dataset_preprocessed[feature_names][f]], axis=1)\n",
    "        \n",
    "    for j in range (1, 90): #split percentage\n",
    "        X_train, X_test, y_train, y_test = train_test_split(Xt, y, test_size=j*0.01, random_state=42, shuffle=True)\n",
    "        \n",
    "        for i in range (1,40): #k-neighbours\n",
    "            model_2 = KNeighborsClassifier(n_neighbors=i, weights='distance') \n",
    "            model_2.fit(X_train, y_train)\n",
    "            y_pred = model_2.predict(X_test)\n",
    "            score= model_2.score(X_test, y_test)\n",
    "            if(score*100 > best_k_score):\n",
    "                best_k_score = score * 100\n",
    "                best_i = i\n",
    "                best_split = j\n",
    "                X = Xt\n",
    "            \n",
    "print(\"For splitting, the best k score is: %d, the best k-neighbours %d, the best split is: %d, and the best features are: \" %(best_k_score, best_i, best_split), X.columns)\n",
    "\n",
    "\n"
   ]
  },
  {
   "cell_type": "code",
   "execution_count": 71,
   "id": "ad3dd3b0",
   "metadata": {},
   "outputs": [
    {
     "data": {
      "text/plain": [
       "(12079, 24)"
      ]
     },
     "execution_count": 71,
     "metadata": {},
     "output_type": "execute_result"
    }
   ],
   "source": []
  },
  {
   "cell_type": "code",
   "execution_count": 72,
   "id": "51a954fd",
   "metadata": {
    "ExecuteTime": {
     "end_time": "2021-12-11T18:14:52.916035Z",
     "start_time": "2021-12-11T18:14:49.087048Z"
    }
   },
   "outputs": [
    {
     "name": "stdout",
     "output_type": "stream",
     "text": [
      "For splitting, the best k score is: 71, the best k-neighbours 33, the best split is: 1, and the best features are:  Index(['destination', 'passanger', 'weather', 'coupon', 'expiration',\n",
      "       'education', 'income', 'Bar', 'CoffeeHouse', 'CarryAway',\n",
      "       'RestaurantLessThan20', 'toCoupon_GEQ25min', 'direction_same',\n",
      "       'direction_opp'],\n",
      "      dtype='object')\n"
     ]
    }
   ],
   "source": [
    "X = dataset_preprocessed.drop(['Y'], axis=1)\n",
    "Xt = X.copy()\n",
    "y = dataset_preprocessed['Y']\n",
    "best_k_score =0\n",
    "best_i = 0\n",
    "best_split = 0\n",
    "\n",
    "#Using Splitting\n",
    "for f in range (-1,24):\n",
    "    if(f != -1):\n",
    "        Xt = X.drop([dataset_preprocessed.columns[f]], axis=1)\n",
    "    for j in range (1, 5): #split percentage\n",
    "        X_train, X_test, y_train, y_test = train_test_split(Xt, y, test_size=j*0.2, random_state=42, shuffle=True)\n",
    "        for i in range (1,40): #k-neighbours\n",
    "            model_2 = KNeighborsClassifier(n_neighbors=i, weights='distance') \n",
    "            model_2.fit(X_train, y_train)\n",
    "            y_pred = model_2.predict(X_test)\n",
    "            score= model_2.score(X_test, y_test)\n",
    "            if(score*100 > best_k_score):\n",
    "                best_k_score = score * 100\n",
    "                best_i = i\n",
    "                best_split = j\n",
    "                X = Xt\n",
    "            \n",
    "print(\"For splitting, the best k score is: %d, the best k-neighbours %d, the best split is: %d, and the best features are: \" %(best_k_score, best_i, best_split), X.columns)\n",
    "\n",
    "\n"
   ]
  },
  {
   "cell_type": "code",
   "execution_count": null,
   "id": "3b4d03bf",
   "metadata": {},
   "outputs": [],
   "source": [
    "y = dataset_preprocessed['Y']\n",
    "best_i = 0\n",
    "best_split = 0\n",
    "X = dataset_preprocessed.drop(['Y'], axis=1)\n",
    "Xt = X.copy()\n",
    "best_k_score =0\n",
    "best_k = 0\n",
    "best_cv = 0\n",
    "best_split = 0\n",
    "final_scores = []\n",
    "cv_scores = []\n",
    "\n",
    "# Using Cross-Validation\n",
    "for f in range (-1,24):\n",
    "    if(f != -1):\n",
    "        Xt = X.drop([dataset_preprocessed.columns[f]], axis=1)\n",
    "    for j in range (1, 10): #split percentage\n",
    "        X_train, X_test, y_train, y_test = train_test_split(Xt, y, test_size=j*0.1, random_state=42, shuffle=True)\n",
    "        for w in range (2,10): #cross-validation\n",
    "            neighbors = np.arange(5, 40, 1)\n",
    "            scores = []\n",
    "            X_scaled_train = preprocessing.scale(X_train)\n",
    "            y_scaled_train = preprocessing.scale(y_train)\n",
    "            X_scaled_test = preprocessing.scale(X_test)\n",
    "            y_scaled_test = preprocessing.scale(y_test)\n",
    "            for k in neighbors:   # running for different K values to know which yields the max accuracy. \n",
    "                knn6 = KNeighborsRegressor(n_neighbors = k,  weights = 'distance')\n",
    "                knn6.fit(X_scaled_train, y_scaled_train)\n",
    "                score = cross_val_score(knn6, X_scaled_train, y_scaled_train,cv=w)\n",
    "                scores.append(score.mean())\n",
    "            final_scores.append(max(scores))\n",
    "        #print(\"max scores: %d\" %(max(final_scores) * 100))\n",
    "        #print(\"index of max score: %d\" %final_scores.index(max(final_scores)))\n",
    "        cv_scores.append((max(final_scores),final_scores.index(max(final_scores))))\n",
    "        if(max(final_scores) * 100 > best_k_score):\n",
    "            best_k_score = max(final_scores) * 100\n",
    "            best_k = k\n",
    "            best_cv = w\n",
    "            best_split = j*20\n",
    "            X = Xt\n",
    "\n",
    "print(\"For cross-validation, the best k-score is: %d, best k-neighbours is: %d, the best cv is: %d, the best split is: %d, and the best features are:\" %(best_k_score, k, best_cv, best_split), X.columns)\n"
   ]
  },
  {
   "cell_type": "code",
   "execution_count": null,
   "id": "918e0627",
   "metadata": {},
   "outputs": [],
   "source": [
    "#Experiment that is not good\n",
    "from sklearn.ensemble import RandomForestClassifier\n",
    "from sklearn import metrics\n",
    "X = dataset_preprocessed.drop(['Y'], axis=1)\n",
    "Xt = X.copy()\n",
    "y = dataset_preprocessed['Y']\n",
    "best_k_score =0\n",
    "best_i = 0\n",
    "best_split = 0\n",
    "\n",
    "\n",
    "X = dataset_preprocessed.drop(['Y'], axis=1)\n",
    "Xt = X.copy()\n",
    "best_k_score =0\n",
    "best_k = 0\n",
    "best_cv = 0\n",
    "best_split = 0\n",
    "final_scores = []\n",
    "cv_scores = []\n",
    "\n",
    "# Using Cross-Validation\n",
    "for f in range (-1,24):\n",
    "    if(f != -1):\n",
    "        Xt = X.drop([dataset_preprocessed.columns[f]], axis=1)\n",
    "    for j in range (1, 3): #split percentage\n",
    "        X_train, X_test, y_train, y_test = train_test_split(Xt, y, test_size=j*0.1, random_state=42, shuffle=True)\n",
    "        #neighbors = np.arange(5, 20, 1)\n",
    "        X_scaled_train = preprocessing.scale(X_train)\n",
    "        y_scaled_train = preprocessing.scale(y_train)\n",
    "        X_scaled_test = preprocessing.scale(X_test)\n",
    "        y_scaled_test = preprocessing.scale(y_test)\n",
    "        #for k in neighbors:\n",
    "        knn6 = KNeighborsRegressor(n_neighbors = 19,  weights = 'distance')\n",
    "        knn6.fit(X_scaled_train, y_scaled_train)\n",
    "        score = cross_val_score(knn6, X_scaled_train, y_scaled_train,cv=5)\n",
    "        if(score * 100 > best_k_score):\n",
    "            best_k_score = scores * 100\n",
    "            best_split = j*10\n",
    "            X = Xt\n",
    "\n",
    "print(\"For cross-validation, the best k-score is: %d, best k-neighbours is: %d, the best cv is: %d, the best split is: %d, and the best features are:\" %(best_k_score, k, best_cv, best_split), X.columns)\n"
   ]
  },
  {
   "cell_type": "code",
   "execution_count": null,
   "id": "9711fe86",
   "metadata": {},
   "outputs": [],
   "source": [
    "X = dataset_preprocessed.drop(['Y'], axis=1)\n",
    "Xt = X.copy()\n",
    "y = dataset_preprocessed['Y']\n",
    "best_k_score =0\n",
    "\n",
    "# Using Cross-Validation\n",
    "for f in range (-1,24):\n",
    "    if(f != -1):\n",
    "        Xt = X.drop([dataset_preprocessed.columns[f]], axis=1)\n",
    "    X_train, X_test, y_train, y_test = train_test_split(Xt, y, test_size=0.2, random_state=42, shuffle=True)\n",
    "    knn6 = KNeighborsClassifier(n_neighbors = 33,  weights = 'distance')\n",
    "    knn6.fit(X_train, y_train)\n",
    "    score = cross_val_score(knn6, X_train, y_train,cv=5)\n",
    "    if(score.mean() * 100 > best_k_score):\n",
    "        best_k_score = score.mean() * 100\n",
    "        X = Xt\n",
    "\n",
    "print(\"For cross-validation, the best k-score is: %d, and the best features are:\" %(best_k_score), X.columns)"
   ]
  },
  {
   "cell_type": "code",
   "execution_count": null,
   "id": "c76e8d62",
   "metadata": {
    "ExecuteTime": {
     "end_time": "2021-12-11T15:33:25.286060Z",
     "start_time": "2021-12-11T15:33:24.868761Z"
    }
   },
   "outputs": [],
   "source": [
    "from sklearn.ensemble import RandomForestClassifier\n",
    "from sklearn import metrics\n",
    "\n",
    "y = dataset_preprocessed['Y']\n",
    "X = dataset_preprocessed.drop(['Y'], axis=1)\n",
    "\n",
    "clf=RandomForestClassifier(n_estimators=400)\n",
    "X_train, X_test, y_train, y_test = train_test_split(Xt, y, test_size=0.1, random_state=42, shuffle=True)\n",
    "clf.fit(X_train,y_train)\n",
    "y_pred = cross_val_score(clf, X_train, y_train,cv=5)\n",
    "print(\"Accuracy: \", y_pred.mean()*100, \"%\")"
   ]
  }
 ],
 "metadata": {
  "kernelspec": {
   "display_name": "Python 3",
   "language": "python",
   "name": "python3"
  },
  "language_info": {
   "codemirror_mode": {
    "name": "ipython",
    "version": 3
   },
   "file_extension": ".py",
   "mimetype": "text/x-python",
   "name": "python",
   "nbconvert_exporter": "python",
   "pygments_lexer": "ipython3",
   "version": "3.8.8"
  },
  "toc": {
   "base_numbering": 1,
   "nav_menu": {},
   "number_sections": true,
   "sideBar": true,
   "skip_h1_title": false,
   "title_cell": "Table of Contents",
   "title_sidebar": "Contents",
   "toc_cell": false,
   "toc_position": {},
   "toc_section_display": true,
   "toc_window_display": false
  }
 },
 "nbformat": 4,
 "nbformat_minor": 5
}
